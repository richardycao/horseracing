{
 "cells": [
  {
   "cell_type": "code",
   "execution_count": 51,
   "id": "983c679d",
   "metadata": {},
   "outputs": [],
   "source": [
    "import numpy as np\n",
    "import pandas as pd\n",
    "import matplotlib.pyplot as plt\n",
    "import datetime as dt\n",
    "import json"
   ]
  },
  {
   "cell_type": "code",
   "execution_count": 260,
   "id": "a05d1b6f",
   "metadata": {},
   "outputs": [],
   "source": [
    "obs_rf4_1_m25 = pd.read_csv(\"obs_rf4_1_m25.csv\")\n",
    "\n",
    "all_obs = [\n",
    "    obs_rf4_1_m25,\n",
    "]\n",
    "all_labels = [\n",
    "    'rf4_1_m25'\n",
    "]"
   ]
  },
  {
   "cell_type": "code",
   "execution_count": 261,
   "id": "586a31a4",
   "metadata": {},
   "outputs": [
    {
     "data": {
      "text/html": [
       "<div>\n",
       "<style scoped>\n",
       "    .dataframe tbody tr th:only-of-type {\n",
       "        vertical-align: middle;\n",
       "    }\n",
       "\n",
       "    .dataframe tbody tr th {\n",
       "        vertical-align: top;\n",
       "    }\n",
       "\n",
       "    .dataframe thead th {\n",
       "        text-align: right;\n",
       "    }\n",
       "</style>\n",
       "<table border=\"1\" class=\"dataframe\">\n",
       "  <thead>\n",
       "    <tr style=\"text-align: right;\">\n",
       "      <th></th>\n",
       "      <th>date</th>\n",
       "      <th>time</th>\n",
       "      <th>winner</th>\n",
       "      <th>num_horses</th>\n",
       "      <th>pool_size</th>\n",
       "      <th>scores</th>\n",
       "      <th>pools_i</th>\n",
       "    </tr>\n",
       "  </thead>\n",
       "  <tbody>\n",
       "    <tr>\n",
       "      <th>0</th>\n",
       "      <td>2022-03-25</td>\n",
       "      <td>04:50 AM</td>\n",
       "      <td>3</td>\n",
       "      <td>5</td>\n",
       "      <td>112035</td>\n",
       "      <td>{'1': 0.19885067059628517, '2': 0.199834390804...</td>\n",
       "      <td>{'1': 7553, '2': 19665, '3': 28220, '4': 5178}</td>\n",
       "    </tr>\n",
       "    <tr>\n",
       "      <th>1</th>\n",
       "      <td>2022-03-25</td>\n",
       "      <td>02:00 PM</td>\n",
       "      <td>7</td>\n",
       "      <td>9</td>\n",
       "      <td>10201</td>\n",
       "      <td>{'1': 0.11112048613499272, '2': 0.111111346772...</td>\n",
       "      <td>{'1': 1314, '2': 1010, '3': 1604, '4': 1846, '...</td>\n",
       "    </tr>\n",
       "    <tr>\n",
       "      <th>2</th>\n",
       "      <td>2022-03-25</td>\n",
       "      <td>04:16 PM</td>\n",
       "      <td>6</td>\n",
       "      <td>7</td>\n",
       "      <td>27249</td>\n",
       "      <td>{'1': 0.14302491492877278, '3': 0.142952981057...</td>\n",
       "      <td>{'1': 4534, '2': 0, '3': 5621, '4': 795, '5': ...</td>\n",
       "    </tr>\n",
       "    <tr>\n",
       "      <th>3</th>\n",
       "      <td>2022-03-25</td>\n",
       "      <td>04:27 PM</td>\n",
       "      <td>9</td>\n",
       "      <td>8</td>\n",
       "      <td>11596</td>\n",
       "      <td>{'1': 0.12497820263390509, '4': 0.124968898569...</td>\n",
       "      <td>{'1': 1626, '2': 0, '3': 0, '4': 413, '5': 545...</td>\n",
       "    </tr>\n",
       "    <tr>\n",
       "      <th>4</th>\n",
       "      <td>2022-03-25</td>\n",
       "      <td>01:15 PM</td>\n",
       "      <td>2</td>\n",
       "      <td>6</td>\n",
       "      <td>44808</td>\n",
       "      <td>{'1': 0.16465976188132286, '2': 0.164296812517...</td>\n",
       "      <td>{'1': 7202, '2': 2687, '3': 4770, '4': 26225, ...</td>\n",
       "    </tr>\n",
       "  </tbody>\n",
       "</table>\n",
       "</div>"
      ],
      "text/plain": [
       "         date      time  winner  num_horses  pool_size  \\\n",
       "0  2022-03-25  04:50 AM       3           5     112035   \n",
       "1  2022-03-25  02:00 PM       7           9      10201   \n",
       "2  2022-03-25  04:16 PM       6           7      27249   \n",
       "3  2022-03-25  04:27 PM       9           8      11596   \n",
       "4  2022-03-25  01:15 PM       2           6      44808   \n",
       "\n",
       "                                              scores  \\\n",
       "0  {'1': 0.19885067059628517, '2': 0.199834390804...   \n",
       "1  {'1': 0.11112048613499272, '2': 0.111111346772...   \n",
       "2  {'1': 0.14302491492877278, '3': 0.142952981057...   \n",
       "3  {'1': 0.12497820263390509, '4': 0.124968898569...   \n",
       "4  {'1': 0.16465976188132286, '2': 0.164296812517...   \n",
       "\n",
       "                                             pools_i  \n",
       "0     {'1': 7553, '2': 19665, '3': 28220, '4': 5178}  \n",
       "1  {'1': 1314, '2': 1010, '3': 1604, '4': 1846, '...  \n",
       "2  {'1': 4534, '2': 0, '3': 5621, '4': 795, '5': ...  \n",
       "3  {'1': 1626, '2': 0, '3': 0, '4': 413, '5': 545...  \n",
       "4  {'1': 7202, '2': 2687, '3': 4770, '4': 26225, ...  "
      ]
     },
     "execution_count": 261,
     "metadata": {},
     "output_type": "execute_result"
    }
   ],
   "source": [
    "obs_rf4_1_m25.head()"
   ]
  },
  {
   "cell_type": "code",
   "execution_count": 262,
   "id": "7591d4a9",
   "metadata": {},
   "outputs": [],
   "source": [
    "def add_cols(df):\n",
    "    if 'date' in df.columns and 'time' in df.columns:\n",
    "        df['datetime'] = (df['date'] + ' ' + df['time']).apply(lambda x: dt.datetime.strptime(x, '%Y-%m-%d %I:%M %p'))\n",
    "        df.drop(['date','time'], axis=1, inplace=True)\n",
    "    \n",
    "for ob in all_obs:\n",
    "    add_cols(ob)"
   ]
  },
  {
   "cell_type": "markdown",
   "id": "bd532eec",
   "metadata": {},
   "source": [
    "## Returns based on number of horses in a race"
   ]
  },
  {
   "cell_type": "markdown",
   "id": "8f00c49e",
   "metadata": {},
   "source": [
    "* scores: winning probabilities (p)\n",
    "* pool_size: total money in the pool (omega)\n",
    "* pools_i: money in the pool for a specific horse (h0)\n",
    "* s: remaining pool after takeaway (s). estimate this to be something.\n",
    "\n",
    "Use gradient descent to find the expected return for each horse. Using the same GD, find the optimal bet size for each horse.\n",
    "\n",
    "expected return `E[r] = b*(s*(pool+b)/(h0+b) - 1)*p + (1-p)*-b`\n",
    "\n",
    "`dr = dr = -(s*pool*p+2*s*p*b)/(h0+b) + (s*pool*b*p+s*p*(b**2))/((h0+b)**2) + 1`"
   ]
  },
  {
   "cell_type": "code",
   "execution_count": 263,
   "id": "dbe3682b",
   "metadata": {},
   "outputs": [],
   "source": [
    "def extract_dict(row, col_name):\n",
    "    return json.loads(row.replace(\"\\'\", \"\\\"\"))\n",
    "def get_scores(df):\n",
    "    return df['scores'].apply(lambda x: extract_dict(x, 'scores'))\n",
    "def get_pools_i(df):\n",
    "    return df['pools_i'].apply(lambda x: extract_dict(x, 'pools_i'))\n",
    "\n",
    "def size_bet_odds(pool, s, p, h0, lr=10, precision=0.1, max_iters=10000):\n",
    "    b = 0\n",
    "    iters = 0\n",
    "    prev_step_size = 1\n",
    "    \n",
    "    while iters < max_iters and prev_step_size > precision:\n",
    "        dr = -(s*pool*p+2*s*p*b)/(h0+b) + (s*pool*b*p+s*p*(b**2))/((h0+b)**2) + 1\n",
    "        prev_b = b\n",
    "        b = b - lr*dr\n",
    "        prev_step_size = abs(b-prev_b)\n",
    "        iters += 1\n",
    "    if iters >= max_iters:\n",
    "        pass\n",
    "    return b, s*(pool+b)/(h0+b)-1\n",
    "\n",
    "def sim(df, money, verbose=False):\n",
    "    ps = []\n",
    "    # for each race j,\n",
    "    results = []\n",
    "    returns = []\n",
    "    for j in range(df.shape[0]):\n",
    "        s = 0.8\n",
    "        pool = df['pool_size'][j]\n",
    "        \n",
    "        # for each horse in the race,\n",
    "        # get scores and pools_i. may need to combine the keys in scores to match pools_i.\n",
    "        # calculate the expected return and optimal bet size.\n",
    "        scores = get_scores(df)\n",
    "        pools_i = get_pools_i(df)\n",
    "        \n",
    "        if verbose:\n",
    "            print(f'race {j}:')\n",
    "        \n",
    "        positive_horse_pEr_list = []\n",
    "        for k,v in scores[j].items():\n",
    "            # get p = v\n",
    "            # remove the letter, if it exists. get h0 = pools_i[the remaining number]\n",
    "            p = v\n",
    "            pool_category = k if len(k) == 1 and k[-1].isdigit() else pools_i[j][k[:-1]]\n",
    "            if pool_category not in pools_i[j].keys():\n",
    "                continue\n",
    "    \n",
    "            h0 = pools_i[j][pool_category]\n",
    "            b, odds = size_bet_odds(pool, s, p, h0)\n",
    "            b = min(max(b, 0), money[-1]/10)\n",
    "            Er = odds*b*p - b*(1-p)\n",
    "            if b != 0:\n",
    "                pEr = Er/b # expected percent return\n",
    "                if pEr > 0:\n",
    "                    positive_horse_pEr_list.append([pEr, b, Er, k])\n",
    "        \n",
    "        sorted_list = sorted(positive_horse_pEr_list, key=lambda x: -x[0])\n",
    "        if sorted_list:\n",
    "            pEr, b, Er, choice = sorted_list[0]\n",
    "            \n",
    "            winner = str(df['winner'][j])\n",
    "            \n",
    "            if choice == winner:\n",
    "                results.append(1)\n",
    "                returns.append(Er)\n",
    "                if verbose:\n",
    "                    print(f'  Won {Er}. b: {b}, odds: {odds}, p_hat: {p}.')\n",
    "                money.append(money[-1] + Er)\n",
    "            else:\n",
    "                results.append(0)\n",
    "                returns.append(-b)\n",
    "                if verbose:\n",
    "                    print(f'  Lost {b}. b: {b}, odds: {odds}, p_hat: {p}.')\n",
    "                money.append(money[-1] - b)\n",
    "        else:\n",
    "            money.append(money[-1])\n",
    "    print(f'winrate: {np.average(results)}')  \n",
    "    plt.hist(returns)\n",
    "    plt.show()"
   ]
  },
  {
   "cell_type": "code",
   "execution_count": 264,
   "id": "c1a594a7",
   "metadata": {},
   "outputs": [
    {
     "name": "stdout",
     "output_type": "stream",
     "text": [
      "winrate: 0.04827586206896552\n"
     ]
    },
    {
     "data": {
      "image/png": "[encoded data removed]",
      "text/plain": [
       "<Figure size 432x288 with 1 Axes>"
      ]
     },
     "metadata": {
      "needs_background": "light"
     },
     "output_type": "display_data"
    }
   ],
   "source": [
    "obs_rf4_1_m25 = obs_rf4_1_m25.sort_values('datetime').reset_index(drop=True)\n",
    "money=[10000]\n",
    "sim(obs_rf4_1_m25, money, verbose=False)"
   ]
  },
  {
   "cell_type": "code",
   "execution_count": 265,
   "id": "764d36e9",
   "metadata": {},
   "outputs": [
    {
     "data": {
      "text/plain": [
       "[<matplotlib.lines.Line2D at 0x13fe6a070>]"
      ]
     },
     "execution_count": 265,
     "metadata": {},
     "output_type": "execute_result"
    },
    {
     "data": {
      "image/png": "[encoded data removed]",
      "text/plain": [
       "<Figure size 432x288 with 1 Axes>"
      ]
     },
     "metadata": {
      "needs_background": "light"
     },
     "output_type": "display_data"
    }
   ],
   "source": [
    "plt.plot(money)"
   ]
  },
  {
   "cell_type": "code",
   "execution_count": 39,
   "id": "dda6b510",
   "metadata": {},
   "outputs": [
    {
     "ename": "NameError",
     "evalue": "name 'plot_confidence_by_num_horses' is not defined",
     "output_type": "error",
     "traceback": [
      "\u001b[0;31m---------------------------------------------------------------------------\u001b[0m",
      "\u001b[0;31mNameError\u001b[0m                                 Traceback (most recent call last)",
      "Input \u001b[0;32mIn [39]\u001b[0m, in \u001b[0;36m<cell line: 98>\u001b[0;34m()\u001b[0m\n\u001b[1;32m     95\u001b[0m     plt\u001b[38;5;241m.\u001b[39mgrid()\n\u001b[1;32m     96\u001b[0m     plt\u001b[38;5;241m.\u001b[39mshow()\n\u001b[0;32m---> 98\u001b[0m \u001b[43mplot_confidence_by_num_horses\u001b[49m(all_obs, all_labels)\n",
      "\u001b[0;31mNameError\u001b[0m: name 'plot_confidence_by_num_horses' is not defined"
     ]
    }
   ],
   "source": [
    "\n",
    "def sim_plot(df, p):\n",
    "\n",
    "    money = [1000]\n",
    "    sim(df, money, p=p)\n",
    "\n",
    "    plt.figure(figsize=(20,3))\n",
    "    plt.ylabel('cash')\n",
    "    plt.xlabel('# horse bets')\n",
    "    plt.grid()\n",
    "    plt.plot(df['datetime'], np.average(runs, axis=0)[1:])\n",
    "    plt.show()\n",
    "    \n",
    "#######################\n",
    "\n",
    "def get_scores(df):\n",
    "    def get_race_scores(scores_str):\n",
    "        return json.loads(('{'+obs_rf4_1_m25['scores'][0].split('{')[1][:-1]).replace(\"\\'\", \"\\\"\"))\n",
    "#     def get_scores_row(scores_str):\n",
    "#         return np.array([float(x) for x in scores_str[1:-1].split(' ') if x != ''])\n",
    "    return df['scores'].apply(lambda x: get_race_scores(x))\n",
    "\n",
    "def plot_expected_return_by_num_horses(dfs, labels):\n",
    "    x_low, x_high = 4, 13\n",
    "    offset = 2 # least number of horses in a race. get this from the histogram above\n",
    "    \n",
    "    for df, label in zip(dfs, labels):\n",
    "        scores = get_scores_matrix(df)\n",
    "#         if len(scores[i]) != df['num_horses']\n",
    "        for i in range(df.shape[0]):\n",
    "            np.dot(scores[i].T, )\n",
    "        returns = df.groupby(['num_horses']).mean()\n",
    "        plt.plot(returns.index[x_low-offset:x_high-offset], returns['confidence'][x_low-offset:x_high-offset], label=label)\n",
    "    plt.title('confidence by number of horses')\n",
    "    plt.xticks(range(x_low,x_high))\n",
    "    plt.xlabel('number of horses in the race')\n",
    "    plt.ylabel('confidence')\n",
    "    plt.legend()\n",
    "    plt.grid()\n",
    "    plt.show()\n",
    "    \n",
    "plot_confidence_by_num_horses(all_obs, all_labels)"
   ]
  },
  {
   "cell_type": "code",
   "execution_count": null,
   "id": "4907e238",
   "metadata": {},
   "outputs": [],
   "source": []
  }
 ],
 "metadata": {
  "kernelspec": {
   "display_name": "Python 3 (ipykernel)",
   "language": "python",
   "name": "python3"
  },
  "language_info": {
   "codemirror_mode": {
    "name": "ipython",
    "version": 3
   },
   "file_extension": ".py",
   "mimetype": "text/x-python",
   "name": "python",
   "nbconvert_exporter": "python",
   "pygments_lexer": "ipython3",
   "version": "3.9.10"
  }
 },
 "nbformat": 4,
 "nbformat_minor": 5
}
