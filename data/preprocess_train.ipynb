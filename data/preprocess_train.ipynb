{
 "cells": [
  {
   "cell_type": "code",
   "execution_count": 1,
   "id": "528d1be0",
   "metadata": {},
   "outputs": [],
   "source": [
    "import pandas as pd\n",
    "import datetime as dt\n",
    "import numpy as np\n",
    "import matplotlib.pyplot as plt"
   ]
  },
  {
   "cell_type": "code",
   "execution_count": 2,
   "id": "e0ecd62f",
   "metadata": {},
   "outputs": [
    {
     "name": "stderr",
     "output_type": "stream",
     "text": [
      "/var/folders/6s/jysjm2tx6y90mh4fg5yj89lc0000gn/T/ipykernel_42676/1354964530.py:1: DtypeWarning: Columns (7,34) have mixed types. Specify dtype option on import or set low_memory=False.\n",
      "  data = pd.read_csv('raw_data.csv')\n"
     ]
    }
   ],
   "source": [
    "data = pd.read_csv('raw_data.csv')"
   ]
  },
  {
   "cell_type": "code",
   "execution_count": 3,
   "id": "b8b63759",
   "metadata": {},
   "outputs": [
    {
     "data": {
      "text/html": [
       "<div>\n",
       "<style scoped>\n",
       "    .dataframe tbody tr th:only-of-type {\n",
       "        vertical-align: middle;\n",
       "    }\n",
       "\n",
       "    .dataframe tbody tr th {\n",
       "        vertical-align: top;\n",
       "    }\n",
       "\n",
       "    .dataframe thead th {\n",
       "        text-align: right;\n",
       "    }\n",
       "</style>\n",
       "<table border=\"1\" class=\"dataframe\">\n",
       "  <thead>\n",
       "    <tr style=\"text-align: right;\">\n",
       "      <th></th>\n",
       "      <th>date</th>\n",
       "      <th>time</th>\n",
       "      <th>race_distance</th>\n",
       "      <th>race_type</th>\n",
       "      <th>race_class</th>\n",
       "      <th>surface_name</th>\n",
       "      <th>default_condition</th>\n",
       "      <th>horse_number_1</th>\n",
       "      <th>runner_odds_1</th>\n",
       "      <th>morning_odds_1</th>\n",
       "      <th>...</th>\n",
       "      <th>horse_last_class_2</th>\n",
       "      <th>horse_num_races_2</th>\n",
       "      <th>early_2</th>\n",
       "      <th>middle_2</th>\n",
       "      <th>finish_2</th>\n",
       "      <th>jockey_trainer_starts_2</th>\n",
       "      <th>jockey_trainer_1st_2</th>\n",
       "      <th>jockey_trainer_2nd_2</th>\n",
       "      <th>jockey_trainer_3rd_2</th>\n",
       "      <th>result</th>\n",
       "    </tr>\n",
       "  </thead>\n",
       "  <tbody>\n",
       "    <tr>\n",
       "      <th>0</th>\n",
       "      <td>2022-03-22</td>\n",
       "      <td>12:33 PM</td>\n",
       "      <td>6f</td>\n",
       "      <td>Thoroughbred</td>\n",
       "      <td>Claiming</td>\n",
       "      <td>Dirt</td>\n",
       "      <td>Fast</td>\n",
       "      <td>1</td>\n",
       "      <td>4</td>\n",
       "      <td>3</td>\n",
       "      <td>...</td>\n",
       "      <td>60</td>\n",
       "      <td>10.0</td>\n",
       "      <td>5.2</td>\n",
       "      <td>5.0</td>\n",
       "      <td>3.7</td>\n",
       "      <td>39</td>\n",
       "      <td>2</td>\n",
       "      <td>4</td>\n",
       "      <td>5</td>\n",
       "      <td>0</td>\n",
       "    </tr>\n",
       "    <tr>\n",
       "      <th>1</th>\n",
       "      <td>2022-03-22</td>\n",
       "      <td>12:33 PM</td>\n",
       "      <td>6f</td>\n",
       "      <td>Thoroughbred</td>\n",
       "      <td>Claiming</td>\n",
       "      <td>Dirt</td>\n",
       "      <td>Fast</td>\n",
       "      <td>1</td>\n",
       "      <td>4</td>\n",
       "      <td>3</td>\n",
       "      <td>...</td>\n",
       "      <td>64</td>\n",
       "      <td>10.0</td>\n",
       "      <td>8.5</td>\n",
       "      <td>8.1</td>\n",
       "      <td>4.7</td>\n",
       "      <td>12</td>\n",
       "      <td>1</td>\n",
       "      <td>2</td>\n",
       "      <td>2</td>\n",
       "      <td>0</td>\n",
       "    </tr>\n",
       "    <tr>\n",
       "      <th>2</th>\n",
       "      <td>2022-03-22</td>\n",
       "      <td>12:33 PM</td>\n",
       "      <td>6f</td>\n",
       "      <td>Thoroughbred</td>\n",
       "      <td>Claiming</td>\n",
       "      <td>Dirt</td>\n",
       "      <td>Fast</td>\n",
       "      <td>1</td>\n",
       "      <td>4</td>\n",
       "      <td>3</td>\n",
       "      <td>...</td>\n",
       "      <td>76</td>\n",
       "      <td>10.0</td>\n",
       "      <td>6.4</td>\n",
       "      <td>6.0</td>\n",
       "      <td>4.9</td>\n",
       "      <td>19</td>\n",
       "      <td>3</td>\n",
       "      <td>2</td>\n",
       "      <td>2</td>\n",
       "      <td>0</td>\n",
       "    </tr>\n",
       "    <tr>\n",
       "      <th>3</th>\n",
       "      <td>2022-03-22</td>\n",
       "      <td>12:33 PM</td>\n",
       "      <td>6f</td>\n",
       "      <td>Thoroughbred</td>\n",
       "      <td>Claiming</td>\n",
       "      <td>Dirt</td>\n",
       "      <td>Fast</td>\n",
       "      <td>1</td>\n",
       "      <td>4</td>\n",
       "      <td>3</td>\n",
       "      <td>...</td>\n",
       "      <td>65</td>\n",
       "      <td>8.0</td>\n",
       "      <td>4.9</td>\n",
       "      <td>5.3</td>\n",
       "      <td>4.0</td>\n",
       "      <td>28</td>\n",
       "      <td>3</td>\n",
       "      <td>1</td>\n",
       "      <td>6</td>\n",
       "      <td>1</td>\n",
       "    </tr>\n",
       "    <tr>\n",
       "      <th>4</th>\n",
       "      <td>2022-03-22</td>\n",
       "      <td>12:33 PM</td>\n",
       "      <td>6f</td>\n",
       "      <td>Thoroughbred</td>\n",
       "      <td>Claiming</td>\n",
       "      <td>Dirt</td>\n",
       "      <td>Fast</td>\n",
       "      <td>1</td>\n",
       "      <td>4</td>\n",
       "      <td>3</td>\n",
       "      <td>...</td>\n",
       "      <td>64</td>\n",
       "      <td>10.0</td>\n",
       "      <td>6.6</td>\n",
       "      <td>6.4</td>\n",
       "      <td>5.8</td>\n",
       "      <td>13</td>\n",
       "      <td>1</td>\n",
       "      <td>0</td>\n",
       "      <td>1</td>\n",
       "      <td>0</td>\n",
       "    </tr>\n",
       "  </tbody>\n",
       "</table>\n",
       "<p>5 rows × 62 columns</p>\n",
       "</div>"
      ],
      "text/plain": [
       "         date      time race_distance     race_type race_class surface_name  \\\n",
       "0  2022-03-22  12:33 PM            6f  Thoroughbred   Claiming         Dirt   \n",
       "1  2022-03-22  12:33 PM            6f  Thoroughbred   Claiming         Dirt   \n",
       "2  2022-03-22  12:33 PM            6f  Thoroughbred   Claiming         Dirt   \n",
       "3  2022-03-22  12:33 PM            6f  Thoroughbred   Claiming         Dirt   \n",
       "4  2022-03-22  12:33 PM            6f  Thoroughbred   Claiming         Dirt   \n",
       "\n",
       "  default_condition horse_number_1 runner_odds_1 morning_odds_1  ...  \\\n",
       "0              Fast              1             4              3  ...   \n",
       "1              Fast              1             4              3  ...   \n",
       "2              Fast              1             4              3  ...   \n",
       "3              Fast              1             4              3  ...   \n",
       "4              Fast              1             4              3  ...   \n",
       "\n",
       "  horse_last_class_2  horse_num_races_2 early_2 middle_2 finish_2  \\\n",
       "0                 60               10.0     5.2      5.0      3.7   \n",
       "1                 64               10.0     8.5      8.1      4.7   \n",
       "2                 76               10.0     6.4      6.0      4.9   \n",
       "3                 65                8.0     4.9      5.3      4.0   \n",
       "4                 64               10.0     6.6      6.4      5.8   \n",
       "\n",
       "  jockey_trainer_starts_2 jockey_trainer_1st_2 jockey_trainer_2nd_2  \\\n",
       "0                      39                    2                    4   \n",
       "1                      12                    1                    2   \n",
       "2                      19                    3                    2   \n",
       "3                      28                    3                    1   \n",
       "4                      13                    1                    0   \n",
       "\n",
       "  jockey_trainer_3rd_2 result  \n",
       "0                    5      0  \n",
       "1                    2      0  \n",
       "2                    2      0  \n",
       "3                    6      1  \n",
       "4                    1      0  \n",
       "\n",
       "[5 rows x 62 columns]"
      ]
     },
     "execution_count": 3,
     "metadata": {},
     "output_type": "execute_result"
    }
   ],
   "source": [
    "data.head()"
   ]
  },
  {
   "cell_type": "code",
   "execution_count": 75,
   "id": "54271e3e",
   "metadata": {},
   "outputs": [],
   "source": [
    "from sklearn.model_selection import train_test_split\n",
    "\n",
    "X = data.iloc[:,:-1]\n",
    "y = data['result']\n",
    "\n",
    "X_train, X_val, y_train, y_val = train_test_split(X, y, test_size=0.2, random_state=40)"
   ]
  },
  {
   "cell_type": "code",
   "execution_count": 76,
   "id": "63cfa56e",
   "metadata": {},
   "outputs": [],
   "source": [
    "Xs = { 'X_train': X_train, 'X_val': X_val }\n",
    "\n",
    "for name, Xi in Xs.items():\n",
    "    # date, time - convert to cycles\n",
    "    date_time = (Xi['date'] + ' ' + Xi['time']).apply(lambda x: dt.datetime.strptime(\n",
    "        x, '%Y-%m-%d %I:%M %p'))\n",
    "    def date_to_nth_day(date):\n",
    "        new_year_day = pd.Timestamp(year=date.year, month=1, day=1)\n",
    "        return (date - new_year_day).days + 1\n",
    "    def nth_day_to_cycle(n):\n",
    "        radians = n*(2*np.pi)/(365.25)\n",
    "        return np.cos(radians), np.sin(radians)\n",
    "    Xi['date_cos'] = date_time.apply(lambda x: nth_day_to_cycle(date_to_nth_day(x))[0])\n",
    "    Xi['date_sin'] = date_time.apply(lambda x: nth_day_to_cycle(date_to_nth_day(x))[1])\n",
    "    def mins_to_cycle(mins):\n",
    "        radians = mins*(2*np.pi)/(60*24)\n",
    "        return np.cos(radians), np.sin(radians)\n",
    "    Xi['time_cos'] = date_time.apply(lambda x: mins_to_cycle(x.hour*60 + x.minute)[0])\n",
    "    Xi['time_sin'] = date_time.apply(lambda x: mins_to_cycle(x.hour*60 + x.minute)[1])\n",
    "    Xi.drop(['date','time'], axis=1, inplace=True)\n",
    "\n",
    "    # race_distance - standardize units to meters\n",
    "    def conv_dist(dist):\n",
    "        dist_to_meters = {'f': 201.168,\n",
    "                          'mtr': 1,     # mtr (meter) comes before m (mile) in search\n",
    "                          'm': 1609.34,\n",
    "                          'y': 0.9144}\n",
    "        for k,v in dist_to_meters.items():\n",
    "            if k in dist:\n",
    "                return float(dist[:-len(k)]) * v\n",
    "    Xi['race_distance_meters'] = Xi['race_distance'].apply(lambda x: conv_dist(x))\n",
    "    Xi.drop(['race_distance'], axis=1, inplace=True)\n",
    "\n",
    "    # race_type - one-hot encode\n",
    "    def fixed_one_hot(df, column, categories):\n",
    "        for c in categories:\n",
    "            df[c] = (df[column] == c)*1\n",
    "    fixed_one_hot(Xi, 'race_type', ['Thoroughbred', 'Harness', 'Mixed', 'QuarterHorse', 'Arabian'])\n",
    "    Xi.drop(['race_type'], axis=1, inplace=True)\n",
    "\n",
    "    # race_class (TODO)\n",
    "    Xi.drop(['race_class'], axis=1, inplace=True)\n",
    "\n",
    "    # surface_name - one-hot encode\n",
    "    fixed_one_hot(Xi, 'surface_name', ['Turf', 'Dirt', 'Synthetic', 'Downhill Turf', 'Steeplechase'])\n",
    "    Xi.drop(['surface_name'], axis=1, inplace=True)\n",
    "\n",
    "    # default_condition (TODO - see if there's a relationship e.g. good > good to soft > soft)\n",
    "    Xi.drop(['default_condition'], axis=1, inplace=True)\n",
    "\n",
    "    for i in ['1','2']:\n",
    "        # horse number (TODO - normalize somehow. also has ints and strings.)\n",
    "        Xi.drop(['horse_number_'+i], axis=1, inplace=True)\n",
    "\n",
    "        # runner odds - drop\n",
    "        Xi.drop(['runner_odds_'+i], axis=1, inplace=True)\n",
    "\n",
    "        # morning odds - drop\n",
    "        Xi.drop(['morning_odds_'+i], axis=1, inplace=True)\n",
    "\n",
    "        # horse name (TODO)\n",
    "        Xi.drop(['horse_name_'+i], axis=1, inplace=True)\n",
    "\n",
    "        # horse age - as is\n",
    "\n",
    "        # horse gender (TODO - a bunch of different \"genders\")\n",
    "        Xi.drop(['horse_gender_'+i], axis=1, inplace=True)\n",
    "\n",
    "        # horse siredam\n",
    "        Xi.drop(['horse_siredam_'+i], axis=1, inplace=True)\n",
    "\n",
    "        # horse med - drop\n",
    "        Xi.drop(['horse_med_'+i], axis=1, inplace=True)\n",
    "\n",
    "        # horse trainer (TODO)\n",
    "        Xi.drop(['trainer_'+i], axis=1, inplace=True)\n",
    "\n",
    "        # horse weight - convert to int and fill na with mean.\n",
    "        def str_to_int(x):\n",
    "            return int(x) if x.isdigit() else np.nan\n",
    "        weight_ints = Xi['horse_weight_'+i].apply(lambda x: str_to_int(x.replace(' ','')))\n",
    "        Xi['jockey_weight_'+i] = weight_ints.fillna(weight_ints.mean())\n",
    "        Xi.drop(['horse_weight_'+i], axis=1, inplace=True)\n",
    "\n",
    "        # horse jockey (TODO)\n",
    "        Xi.drop(['jockey_'+i], axis=1, inplace=True)\n",
    "\n",
    "        # horse power rating - convert to int and fill na with mean.\n",
    "        power_ints = Xi['horse_power_rating_'+i].apply(lambda x: str_to_int(x.replace(' ','')))\n",
    "        Xi['horse_power_rating_'+i] = power_ints.fillna(power_ints.mean())\n",
    "\n",
    "        # horse wins/starts (TODO - handle confidence with increasing number of starts)\n",
    "        Xi.drop(['horse_wins/starts_'+i], axis=1, inplace=True)\n",
    "\n",
    "        # horse days off - convert to int and fill na with mean.\n",
    "        days_off_ints = Xi['horse_days_off_'+i].apply(lambda x: str_to_int(x.replace(' ','')))\n",
    "        Xi['horse_days_off_'+i] = days_off_ints.fillna(days_off_ints.mean())\n",
    "\n",
    "        # avg speed - convert to int and fill na with mean.\n",
    "        avg_speed_ints = Xi['horse_avg_speed_'+i].apply(lambda x: str_to_int(x.replace(' ','')))\n",
    "        Xi['horse_avg_speed_'+i] = avg_speed_ints.fillna(avg_speed_ints.mean())\n",
    "\n",
    "        # avg distance - convert to int and fill na with mean.\n",
    "        avg_distance_ints = Xi['horse_avg_distance_'+i].apply(lambda x: str_to_int(x.replace(' ','')))\n",
    "        Xi['horse_avg_distance_'+i] = avg_distance_ints.fillna(avg_distance_ints.mean())\n",
    "\n",
    "        # high speed - convert to int and fill na with mean.\n",
    "        high_speed_ints = Xi['horse_high_speed_'+i].apply(lambda x: str_to_int(x.replace(' ','')))\n",
    "        Xi['horse_high_speed_'+i] = high_speed_ints.fillna(high_speed_ints.mean())\n",
    "\n",
    "        # avg class - convert to int and fill na with mean.\n",
    "        avg_class_ints = Xi['horse_avg_class_'+i].apply(lambda x: str_to_int(x.replace(' ','')))\n",
    "        Xi['horse_avg_class_'+i] = avg_class_ints.fillna(avg_class_ints.mean())\n",
    "\n",
    "        # last class - convert to int and fill na with mean.\n",
    "        last_class_ints = Xi['horse_last_class_'+i].apply(lambda x: str_to_int(x.replace(' ','')))\n",
    "        Xi['horse_last_class_'+i] = last_class_ints.fillna(last_class_ints.mean())\n",
    "\n",
    "        # num races - as is\n",
    "\n",
    "        # early - as is\n",
    "\n",
    "        # middle - as is\n",
    "\n",
    "        # finish - as is\n",
    "\n",
    "        # starts - as is\n",
    "\n",
    "        # 1st - as is\n",
    "\n",
    "        # 2nd - as is\n",
    "\n",
    "        # 3rd - as is\n",
    "        \n",
    "    Xs[name] = Xi"
   ]
  },
  {
   "cell_type": "code",
   "execution_count": 77,
   "id": "f8575a7b",
   "metadata": {},
   "outputs": [
    {
     "data": {
      "text/html": [
       "<div>\n",
       "<style scoped>\n",
       "    .dataframe tbody tr th:only-of-type {\n",
       "        vertical-align: middle;\n",
       "    }\n",
       "\n",
       "    .dataframe tbody tr th {\n",
       "        vertical-align: top;\n",
       "    }\n",
       "\n",
       "    .dataframe thead th {\n",
       "        text-align: right;\n",
       "    }\n",
       "</style>\n",
       "<table border=\"1\" class=\"dataframe\">\n",
       "  <thead>\n",
       "    <tr style=\"text-align: right;\">\n",
       "      <th></th>\n",
       "      <th>horse_age_1</th>\n",
       "      <th>horse_power_rating_1</th>\n",
       "      <th>horse_days_off_1</th>\n",
       "      <th>horse_avg_speed_1</th>\n",
       "      <th>horse_avg_distance_1</th>\n",
       "      <th>horse_high_speed_1</th>\n",
       "      <th>horse_avg_class_1</th>\n",
       "      <th>horse_last_class_1</th>\n",
       "      <th>horse_num_races_1</th>\n",
       "      <th>early_1</th>\n",
       "      <th>...</th>\n",
       "      <th>Mixed</th>\n",
       "      <th>QuarterHorse</th>\n",
       "      <th>Arabian</th>\n",
       "      <th>Turf</th>\n",
       "      <th>Dirt</th>\n",
       "      <th>Synthetic</th>\n",
       "      <th>Downhill Turf</th>\n",
       "      <th>Steeplechase</th>\n",
       "      <th>jockey_weight_1</th>\n",
       "      <th>jockey_weight_2</th>\n",
       "    </tr>\n",
       "  </thead>\n",
       "  <tbody>\n",
       "    <tr>\n",
       "      <th>79638</th>\n",
       "      <td>9.0</td>\n",
       "      <td>56.096866</td>\n",
       "      <td>17.0</td>\n",
       "      <td>52.000000</td>\n",
       "      <td>44.000000</td>\n",
       "      <td>55.000000</td>\n",
       "      <td>66.000000</td>\n",
       "      <td>68.000000</td>\n",
       "      <td>10.0</td>\n",
       "      <td>6.0</td>\n",
       "      <td>...</td>\n",
       "      <td>0</td>\n",
       "      <td>0</td>\n",
       "      <td>0</td>\n",
       "      <td>0</td>\n",
       "      <td>1</td>\n",
       "      <td>0</td>\n",
       "      <td>0</td>\n",
       "      <td>0</td>\n",
       "      <td>122.0</td>\n",
       "      <td>122.0</td>\n",
       "    </tr>\n",
       "    <tr>\n",
       "      <th>16014</th>\n",
       "      <td>5.0</td>\n",
       "      <td>56.096866</td>\n",
       "      <td>16.0</td>\n",
       "      <td>66.000000</td>\n",
       "      <td>65.000000</td>\n",
       "      <td>80.000000</td>\n",
       "      <td>82.000000</td>\n",
       "      <td>80.000000</td>\n",
       "      <td>4.0</td>\n",
       "      <td>3.8</td>\n",
       "      <td>...</td>\n",
       "      <td>0</td>\n",
       "      <td>0</td>\n",
       "      <td>0</td>\n",
       "      <td>0</td>\n",
       "      <td>1</td>\n",
       "      <td>0</td>\n",
       "      <td>0</td>\n",
       "      <td>0</td>\n",
       "      <td>124.0</td>\n",
       "      <td>124.0</td>\n",
       "    </tr>\n",
       "    <tr>\n",
       "      <th>14166</th>\n",
       "      <td>5.0</td>\n",
       "      <td>56.096866</td>\n",
       "      <td>13.0</td>\n",
       "      <td>86.000000</td>\n",
       "      <td>86.000000</td>\n",
       "      <td>96.000000</td>\n",
       "      <td>95.000000</td>\n",
       "      <td>97.000000</td>\n",
       "      <td>10.0</td>\n",
       "      <td>3.9</td>\n",
       "      <td>...</td>\n",
       "      <td>0</td>\n",
       "      <td>0</td>\n",
       "      <td>0</td>\n",
       "      <td>0</td>\n",
       "      <td>1</td>\n",
       "      <td>0</td>\n",
       "      <td>0</td>\n",
       "      <td>0</td>\n",
       "      <td>124.0</td>\n",
       "      <td>118.0</td>\n",
       "    </tr>\n",
       "    <tr>\n",
       "      <th>54731</th>\n",
       "      <td>5.0</td>\n",
       "      <td>56.096866</td>\n",
       "      <td>23.0</td>\n",
       "      <td>68.000000</td>\n",
       "      <td>67.000000</td>\n",
       "      <td>82.000000</td>\n",
       "      <td>87.000000</td>\n",
       "      <td>86.000000</td>\n",
       "      <td>8.0</td>\n",
       "      <td>6.5</td>\n",
       "      <td>...</td>\n",
       "      <td>0</td>\n",
       "      <td>0</td>\n",
       "      <td>0</td>\n",
       "      <td>0</td>\n",
       "      <td>1</td>\n",
       "      <td>0</td>\n",
       "      <td>0</td>\n",
       "      <td>0</td>\n",
       "      <td>122.0</td>\n",
       "      <td>122.0</td>\n",
       "    </tr>\n",
       "    <tr>\n",
       "      <th>83742</th>\n",
       "      <td>4.0</td>\n",
       "      <td>56.096866</td>\n",
       "      <td>16.0</td>\n",
       "      <td>68.166203</td>\n",
       "      <td>63.468122</td>\n",
       "      <td>75.957577</td>\n",
       "      <td>77.630104</td>\n",
       "      <td>78.777988</td>\n",
       "      <td>0.0</td>\n",
       "      <td>0.0</td>\n",
       "      <td>...</td>\n",
       "      <td>0</td>\n",
       "      <td>0</td>\n",
       "      <td>0</td>\n",
       "      <td>1</td>\n",
       "      <td>0</td>\n",
       "      <td>0</td>\n",
       "      <td>0</td>\n",
       "      <td>0</td>\n",
       "      <td>130.0</td>\n",
       "      <td>125.0</td>\n",
       "    </tr>\n",
       "  </tbody>\n",
       "</table>\n",
       "<p>5 rows × 49 columns</p>\n",
       "</div>"
      ],
      "text/plain": [
       "       horse_age_1  horse_power_rating_1  horse_days_off_1  horse_avg_speed_1  \\\n",
       "79638          9.0             56.096866              17.0          52.000000   \n",
       "16014          5.0             56.096866              16.0          66.000000   \n",
       "14166          5.0             56.096866              13.0          86.000000   \n",
       "54731          5.0             56.096866              23.0          68.000000   \n",
       "83742          4.0             56.096866              16.0          68.166203   \n",
       "\n",
       "       horse_avg_distance_1  horse_high_speed_1  horse_avg_class_1  \\\n",
       "79638             44.000000           55.000000          66.000000   \n",
       "16014             65.000000           80.000000          82.000000   \n",
       "14166             86.000000           96.000000          95.000000   \n",
       "54731             67.000000           82.000000          87.000000   \n",
       "83742             63.468122           75.957577          77.630104   \n",
       "\n",
       "       horse_last_class_1  horse_num_races_1  early_1  ...  Mixed  \\\n",
       "79638           68.000000               10.0      6.0  ...      0   \n",
       "16014           80.000000                4.0      3.8  ...      0   \n",
       "14166           97.000000               10.0      3.9  ...      0   \n",
       "54731           86.000000                8.0      6.5  ...      0   \n",
       "83742           78.777988                0.0      0.0  ...      0   \n",
       "\n",
       "       QuarterHorse  Arabian  Turf  Dirt  Synthetic  Downhill Turf  \\\n",
       "79638             0        0     0     1          0              0   \n",
       "16014             0        0     0     1          0              0   \n",
       "14166             0        0     0     1          0              0   \n",
       "54731             0        0     0     1          0              0   \n",
       "83742             0        0     1     0          0              0   \n",
       "\n",
       "       Steeplechase  jockey_weight_1  jockey_weight_2  \n",
       "79638             0            122.0            122.0  \n",
       "16014             0            124.0            124.0  \n",
       "14166             0            124.0            118.0  \n",
       "54731             0            122.0            122.0  \n",
       "83742             0            130.0            125.0  \n",
       "\n",
       "[5 rows x 49 columns]"
      ]
     },
     "execution_count": 77,
     "metadata": {},
     "output_type": "execute_result"
    }
   ],
   "source": [
    "Xs['X_train'].head()"
   ]
  },
  {
   "cell_type": "code",
   "execution_count": 56,
   "id": "1296c834",
   "metadata": {},
   "outputs": [
    {
     "data": {
      "text/plain": [
       "horse_age_1                0\n",
       "horse_power_rating_1       0\n",
       "horse_days_off_1           0\n",
       "horse_avg_speed_1          0\n",
       "horse_avg_distance_1       0\n",
       "horse_high_speed_1         0\n",
       "horse_avg_class_1          0\n",
       "horse_last_class_1         0\n",
       "horse_num_races_1          0\n",
       "early_1                    0\n",
       "middle_1                   0\n",
       "finish_1                   0\n",
       "jockey_trainer_starts_1    0\n",
       "jockey_trainer_1st_1       0\n",
       "jockey_trainer_2nd_1       0\n",
       "jockey_trainer_3rd_1       0\n",
       "horse_age_2                0\n",
       "horse_power_rating_2       0\n",
       "horse_days_off_2           0\n",
       "horse_avg_speed_2          0\n",
       "horse_avg_distance_2       0\n",
       "horse_high_speed_2         0\n",
       "horse_avg_class_2          0\n",
       "horse_last_class_2         0\n",
       "horse_num_races_2          0\n",
       "early_2                    0\n",
       "middle_2                   0\n",
       "finish_2                   0\n",
       "jockey_trainer_starts_2    0\n",
       "jockey_trainer_1st_2       0\n",
       "jockey_trainer_2nd_2       0\n",
       "jockey_trainer_3rd_2       0\n",
       "date_cos                   0\n",
       "date_sin                   0\n",
       "time_cos                   0\n",
       "time_sin                   0\n",
       "race_distance_meters       0\n",
       "Arabian                    0\n",
       "Harness                    0\n",
       "Mixed                      0\n",
       "QuarterHorse               0\n",
       "Thoroughbred               0\n",
       "Dirt                       0\n",
       "Downhill Turf              0\n",
       "Steeplechase               0\n",
       "Synthetic                  0\n",
       "Turf                       0\n",
       "jockey_weight_1            0\n",
       "jockey_weight_2            0\n",
       "dtype: int64"
      ]
     },
     "execution_count": 56,
     "metadata": {},
     "output_type": "execute_result"
    }
   ],
   "source": [
    "Xs['X_train'].isna().sum()"
   ]
  },
  {
   "cell_type": "code",
   "execution_count": null,
   "id": "1f1a54e8",
   "metadata": {},
   "outputs": [],
   "source": []
  },
  {
   "cell_type": "code",
   "execution_count": null,
   "id": "f08bbfd5",
   "metadata": {},
   "outputs": [],
   "source": []
  },
  {
   "cell_type": "markdown",
   "id": "8659da62",
   "metadata": {},
   "source": [
    "# Playground - reducing skew"
   ]
  },
  {
   "cell_type": "code",
   "execution_count": 19,
   "id": "95d5fb1a",
   "metadata": {},
   "outputs": [],
   "source": [
    "import matplotlib.pyplot as plt"
   ]
  },
  {
   "cell_type": "code",
   "execution_count": 156,
   "id": "73466e27",
   "metadata": {},
   "outputs": [],
   "source": [
    "from scipy import stats\n",
    "\n",
    "def str_is_float(x):\n",
    "    try:\n",
    "        float(x)\n",
    "        return True\n",
    "    except ValueError:\n",
    "        return False\n",
    "def str_to_float(x):\n",
    "    return float(x) if str_is_float(x) else np.nan\n",
    "def normalize(x, u, s):\n",
    "    return (x - u)/s\n",
    "def frac_top(x):\n",
    "    parts = x.replace(' ','').split('/')\n",
    "    return float(parts[0])\n",
    "def frac_bot(x):\n",
    "    parts = x.replace(' ','').split('/')\n",
    "    return float(parts[1])\n",
    "def eval_frac(x):\n",
    "    if isinstance(x, int) or isinstance(x, float):\n",
    "        return float(x)\n",
    "    if \"/\" in x:\n",
    "        parts = x.split(\"/\")\n",
    "        if float(parts[1]) == 0:\n",
    "            return 0\n",
    "        return float(parts[0]) / float(parts[1])\n",
    "    return float(x)\n",
    "def stf(df):\n",
    "    return df.apply(lambda x: str_to_float((x if isinstance(x, str) else str(x)).replace(' ','')))\n",
    "\n",
    "def custom_hist(ints, title):\n",
    "    mini, maxi = np.min(ints), np.max(ints)\n",
    "    plt.figure(figsize=(5, 2))\n",
    "    plt.hist(ints, bins=np.arange(mini, maxi, (maxi-mini)/20))\n",
    "    plt.title(title)\n",
    "    plt.show()\n",
    "\n",
    "def visualize_skew(ints):\n",
    "    u, s = np.mean(ints), np.std(ints)\n",
    "    \n",
    "    print('skew:', ints.skew())\n",
    "    print('skew after log:', np.log(ints).skew())\n",
    "    print('skew after sqrt:', np.sqrt(ints).skew())\n",
    "    print('skew after cube root:', np.power(ints, 1/3).skew())\n",
    "#     print('skew after boxcox:', pd.Series(stats.boxcox(ints)[0]).skew())\n",
    "    print('skew after square:', np.power(ints,2).skew())\n",
    "    \n",
    "    custom_hist(ints, 'original')\n",
    "    \n",
    "    print('mean:', u, ', std:', s)\n",
    "    \n",
    "    return ints\n",
    "def visualize_normal(d):\n",
    "    u, s = np.mean(d), np.std(d)\n",
    "    dn = normalize(thing, u, s)\n",
    "    \n",
    "    custom_hist(dn, 'normalized')\n",
    "    print('mean:', u, ', std:', s)"
   ]
  },
  {
   "cell_type": "markdown",
   "id": "f9d159b4",
   "metadata": {},
   "source": [
    "### age - log"
   ]
  },
  {
   "cell_type": "code",
   "execution_count": 194,
   "id": "13027cee",
   "metadata": {},
   "outputs": [
    {
     "name": "stdout",
     "output_type": "stream",
     "text": [
      "skew: 1.0625418165381035\n",
      "skew after log: 0.13535255717913716\n",
      "skew after sqrt: 0.5888958467247695\n",
      "skew after cube root: 0.4366455725681044\n",
      "skew after square: 2.141035514732343\n"
     ]
    },
    {
     "data": {
      "image/png": "[encoded data removed]",
      "text/plain": [
       "<Figure size 360x144 with 1 Axes>"
      ]
     },
     "metadata": {
      "needs_background": "light"
     },
     "output_type": "display_data"
    },
    {
     "name": "stdout",
     "output_type": "stream",
     "text": [
      "mean: 5.383343373493976 , std: 2.1190308713895303\n"
     ]
    },
    {
     "data": {
      "image/png": "[encoded data removed]",
      "text/plain": [
       "<Figure size 360x144 with 1 Axes>"
      ]
     },
     "metadata": {
      "needs_background": "light"
     },
     "output_type": "display_data"
    },
    {
     "name": "stdout",
     "output_type": "stream",
     "text": [
      "mean: 1.611377826671145 , std: 0.3770414294488063\n"
     ]
    }
   ],
   "source": [
    "df = stf(data['horse_age_1'])\n",
    "d = visualize_skew(df)\n",
    "transformed = np.log(d)\n",
    "visualize_normal(transformed)"
   ]
  },
  {
   "cell_type": "markdown",
   "id": "6154b0d4",
   "metadata": {},
   "source": [
    "### weight - log"
   ]
  },
  {
   "cell_type": "code",
   "execution_count": 165,
   "id": "0fdeaf51",
   "metadata": {},
   "outputs": [
    {
     "name": "stdout",
     "output_type": "stream",
     "text": [
      "skew: 1.4450631565057663\n",
      "skew after log: 1.3020507851401584\n",
      "skew after sqrt: 1.374458069468201\n",
      "skew after cube root: 1.350532649398425\n",
      "skew after square: 1.5817095060162452\n"
     ]
    },
    {
     "data": {
      "image/png": "[encoded data removed]",
      "text/plain": [
       "<Figure size 360x144 with 1 Axes>"
      ]
     },
     "metadata": {
      "needs_background": "light"
     },
     "output_type": "display_data"
    },
    {
     "name": "stdout",
     "output_type": "stream",
     "text": [
      "mean: 129.11204743313044 , std: 12.726909167639672\n"
     ]
    },
    {
     "data": {
      "image/png": "[encoded data removed]",
      "text/plain": [
       "<Figure size 360x144 with 1 Axes>"
      ]
     },
     "metadata": {
      "needs_background": "light"
     },
     "output_type": "display_data"
    },
    {
     "name": "stdout",
     "output_type": "stream",
     "text": [
      "mean: 4.856201520634625 , std: 0.09277710202327677\n"
     ]
    }
   ],
   "source": [
    "df = stf(data['horse_weight_1'])\n",
    "d = visualize_skew(df)\n",
    "transformed = np.log(d)\n",
    "visualize_normal(transformed)"
   ]
  },
  {
   "cell_type": "markdown",
   "id": "6aad8dbd",
   "metadata": {},
   "source": [
    "### power rating - square"
   ]
  },
  {
   "cell_type": "code",
   "execution_count": 140,
   "id": "8f795437",
   "metadata": {},
   "outputs": [
    {
     "name": "stdout",
     "output_type": "stream",
     "text": [
      "skew: -0.7892773410519449\n",
      "skew after log: -1.643580238298235\n",
      "skew after sqrt: -1.1948650044557896\n",
      "skew after cube root: -1.3389233710979487\n",
      "skew after square: -0.04926880745515666\n"
     ]
    },
    {
     "data": {
      "image/png": "[encoded data removed]",
      "text/plain": [
       "<Figure size 360x144 with 1 Axes>"
      ]
     },
     "metadata": {
      "needs_background": "light"
     },
     "output_type": "display_data"
    },
    {
     "name": "stdout",
     "output_type": "stream",
     "text": [
      "mean: 69.45932203389829 , std: 13.847426765202824\n"
     ]
    },
    {
     "data": {
      "image/png": "[encoded data removed]",
      "text/plain": [
       "<Figure size 360x144 with 1 Axes>"
      ]
     },
     "metadata": {
      "needs_background": "light"
     },
     "output_type": "display_data"
    },
    {
     "name": "stdout",
     "output_type": "stream",
     "text": [
      "mean: 5016.348645426446 , std: 1795.9921702105964\n"
     ]
    }
   ],
   "source": [
    "df = stf(data['horse_power_rating_1'])\n",
    "d = visualize_skew(df)\n",
    "transformed = np.power(d, 2)\n",
    "visualize_normal(transformed)"
   ]
  },
  {
   "cell_type": "markdown",
   "id": "97c1d7dd",
   "metadata": {},
   "source": [
    "### wins/starts - cube root for all 3"
   ]
  },
  {
   "cell_type": "code",
   "execution_count": 157,
   "id": "2a0580bb",
   "metadata": {},
   "outputs": [],
   "source": [
    "horse_winrate = data['horse_wins/starts_'+i].apply(lambda x: eval_frac(x))\n",
    "horse_wins = data['horse_wins/starts_'+i].apply(lambda x: frac_top(x))\n",
    "horse_starts = data['horse_wins/starts_'+i].apply(lambda x: frac_bot(x))"
   ]
  },
  {
   "cell_type": "code",
   "execution_count": 158,
   "id": "27728ef5",
   "metadata": {},
   "outputs": [
    {
     "name": "stdout",
     "output_type": "stream",
     "text": [
      "skew: 3.2051072231415616\n",
      "skew after log: nan\n",
      "skew after sqrt: 1.1750974346430654\n",
      "skew after cube root: 0.8808811632742368\n",
      "skew after square: 9.813821325731551\n"
     ]
    },
    {
     "data": {
      "image/png": "[encoded data removed]",
      "text/plain": [
       "<Figure size 360x144 with 1 Axes>"
      ]
     },
     "metadata": {
      "needs_background": "light"
     },
     "output_type": "display_data"
    },
    {
     "name": "stdout",
     "output_type": "stream",
     "text": [
      "mean: 0.06597261076110704 , std: 0.12329410154493747\n"
     ]
    },
    {
     "data": {
      "image/png": "[encoded data removed]",
      "text/plain": [
       "<Figure size 360x144 with 1 Axes>"
      ]
     },
     "metadata": {
      "needs_background": "light"
     },
     "output_type": "display_data"
    },
    {
     "name": "stdout",
     "output_type": "stream",
     "text": [
      "mean: 0.18887229260656888 , std: 0.2711806069214066\n"
     ]
    }
   ],
   "source": [
    "d = visualize_skew(horse_winrate)\n",
    "transformed = np.power(d, 1/3)\n",
    "visualize_normal(transformed)"
   ]
  },
  {
   "cell_type": "code",
   "execution_count": 160,
   "id": "9160d63a",
   "metadata": {},
   "outputs": [
    {
     "name": "stdout",
     "output_type": "stream",
     "text": [
      "skew: 3.382476962457077\n",
      "skew after log: nan\n",
      "skew after sqrt: 1.8035213392432807\n",
      "skew after cube root: 1.2813034543275903\n",
      "skew after square: 7.415185277923721\n"
     ]
    },
    {
     "data": {
      "image/png": "[encoded data removed]",
      "text/plain": [
       "<Figure size 360x144 with 1 Axes>"
      ]
     },
     "metadata": {
      "needs_background": "light"
     },
     "output_type": "display_data"
    },
    {
     "name": "stdout",
     "output_type": "stream",
     "text": [
      "mean: 3.3223042168674697 , std: 7.885121500403579\n"
     ]
    },
    {
     "data": {
      "image/png": "[encoded data removed]",
      "text/plain": [
       "<Figure size 360x144 with 1 Axes>"
      ]
     },
     "metadata": {
      "needs_background": "light"
     },
     "output_type": "display_data"
    },
    {
     "name": "stdout",
     "output_type": "stream",
     "text": [
      "mean: 0.6365188073005978 , std: 0.9832922957293507\n"
     ]
    }
   ],
   "source": [
    "d = visualize_skew(horse_wins)\n",
    "transformed = np.power(d, 1/3)\n",
    "visualize_normal(transformed)"
   ]
  },
  {
   "cell_type": "code",
   "execution_count": 163,
   "id": "952075be",
   "metadata": {},
   "outputs": [
    {
     "name": "stdout",
     "output_type": "stream",
     "text": [
      "skew: 3.2307943232707275\n",
      "skew after log: nan\n",
      "skew after sqrt: 1.7318593765630026\n",
      "skew after cube root: 1.1529778811609257\n",
      "skew after square: 6.391825752347986\n"
     ]
    },
    {
     "data": {
      "image/png": "[encoded data removed]",
      "text/plain": [
       "<Figure size 360x144 with 1 Axes>"
      ]
     },
     "metadata": {
      "needs_background": "light"
     },
     "output_type": "display_data"
    },
    {
     "name": "stdout",
     "output_type": "stream",
     "text": [
      "mean: 21.844849397590362 , std: 50.027480345669574\n"
     ]
    },
    {
     "data": {
      "image/png": "[encoded data removed]",
      "text/plain": [
       "<Figure size 360x144 with 1 Axes>"
      ]
     },
     "metadata": {
      "needs_background": "light"
     },
     "output_type": "display_data"
    },
    {
     "name": "stdout",
     "output_type": "stream",
     "text": [
      "mean: 1.3166101445255058 , std: 1.8016120091512144\n"
     ]
    }
   ],
   "source": [
    "d = visualize_skew(horse_starts)\n",
    "transformed = np.power(d, 1/3)\n",
    "visualize_normal(transformed)"
   ]
  },
  {
   "cell_type": "markdown",
   "id": "60165ee6",
   "metadata": {},
   "source": [
    "### days off - log"
   ]
  },
  {
   "cell_type": "code",
   "execution_count": 141,
   "id": "1a04687f",
   "metadata": {},
   "outputs": [
    {
     "name": "stdout",
     "output_type": "stream",
     "text": [
      "skew: 5.722381767873786\n",
      "skew after log: 0.8684448564707075\n",
      "skew after sqrt: 2.5256911741524735\n",
      "skew after cube root: 1.8797356039977593\n",
      "skew after square: 18.859209747615402\n"
     ]
    },
    {
     "data": {
      "image/png": "[encoded data removed]",
      "text/plain": [
       "<Figure size 360x144 with 1 Axes>"
      ]
     },
     "metadata": {
      "needs_background": "light"
     },
     "output_type": "display_data"
    },
    {
     "name": "stdout",
     "output_type": "stream",
     "text": [
      "mean: 34.85192473718958 , std: 63.159593082460624\n"
     ]
    },
    {
     "data": {
      "image/png": "[encoded data removed]",
      "text/plain": [
       "<Figure size 360x144 with 1 Axes>"
      ]
     },
     "metadata": {
      "needs_background": "light"
     },
     "output_type": "display_data"
    },
    {
     "name": "stdout",
     "output_type": "stream",
     "text": [
      "mean: 2.8840755872152273 , std: 1.020260399049755\n"
     ]
    }
   ],
   "source": [
    "df = stf(data['horse_days_off_1'])\n",
    "d = visualize_skew(df)\n",
    "transformed = np.log(d)\n",
    "visualize_normal(transformed)"
   ]
  },
  {
   "cell_type": "markdown",
   "id": "98647943",
   "metadata": {},
   "source": [
    "### avg speed - square"
   ]
  },
  {
   "cell_type": "code",
   "execution_count": 142,
   "id": "b34ef83e",
   "metadata": {},
   "outputs": [
    {
     "name": "stdout",
     "output_type": "stream",
     "text": [
      "skew: -0.969151657209963\n",
      "skew after log: -2.906738094672419\n",
      "skew after sqrt: -1.607196500265081\n",
      "skew after cube root: -1.9221298566156393\n",
      "skew after square: -0.22442276403914768\n"
     ]
    },
    {
     "data": {
      "image/png": "[encoded data removed]",
      "text/plain": [
       "<Figure size 360x144 with 1 Axes>"
      ]
     },
     "metadata": {
      "needs_background": "light"
     },
     "output_type": "display_data"
    },
    {
     "name": "stdout",
     "output_type": "stream",
     "text": [
      "mean: 68.37891602144133 , std: 16.091744157083365\n"
     ]
    },
    {
     "data": {
      "image/png": "[encoded data removed]",
      "text/plain": [
       "<Figure size 360x144 with 1 Axes>"
      ]
     },
     "metadata": {
      "needs_background": "light"
     },
     "output_type": "display_data"
    },
    {
     "name": "stdout",
     "output_type": "stream",
     "text": [
      "mean: 4934.620386284353 , std: 1985.5559651803374\n"
     ]
    }
   ],
   "source": [
    "df = stf(data['horse_avg_speed_1'])\n",
    "d = visualize_skew(df)\n",
    "transformed = np.power(d,2)\n",
    "visualize_normal(transformed)"
   ]
  },
  {
   "cell_type": "markdown",
   "id": "b199cba1",
   "metadata": {},
   "source": [
    "### avg distance - square"
   ]
  },
  {
   "cell_type": "code",
   "execution_count": 143,
   "id": "a7c4db5f",
   "metadata": {},
   "outputs": [
    {
     "name": "stdout",
     "output_type": "stream",
     "text": [
      "skew: -0.4304384386294315\n",
      "skew after log: -1.9552853158165706\n",
      "skew after sqrt: -0.9899575334826227\n",
      "skew after cube root: -1.2382373322089648\n",
      "skew after square: 0.3391223510385645\n"
     ]
    },
    {
     "data": {
      "image/png": "[encoded data removed]",
      "text/plain": [
       "<Figure size 360x144 with 1 Axes>"
      ]
     },
     "metadata": {
      "needs_background": "light"
     },
     "output_type": "display_data"
    },
    {
     "name": "stdout",
     "output_type": "stream",
     "text": [
      "mean: 62.54477323649849 , std: 18.16069300997624\n"
     ]
    },
    {
     "data": {
      "image/png": "[encoded data removed]",
      "text/plain": [
       "<Figure size 360x144 with 1 Axes>"
      ]
     },
     "metadata": {
      "needs_background": "light"
     },
     "output_type": "display_data"
    },
    {
     "name": "stdout",
     "output_type": "stream",
     "text": [
      "mean: 4241.659429807618 , std: 2174.677151306234\n"
     ]
    }
   ],
   "source": [
    "df = stf(data['horse_avg_distance_1'])\n",
    "d = visualize_skew(df)\n",
    "transformed = np.power(d,2)\n",
    "visualize_normal(transformed)"
   ]
  },
  {
   "cell_type": "markdown",
   "id": "0adc89a1",
   "metadata": {},
   "source": [
    "### high speed - square"
   ]
  },
  {
   "cell_type": "code",
   "execution_count": 144,
   "id": "13db5d70",
   "metadata": {},
   "outputs": [
    {
     "name": "stdout",
     "output_type": "stream",
     "text": [
      "skew: -0.9843706960967346\n",
      "skew after log: -2.8737391687743554\n",
      "skew after sqrt: -1.6642153312925752\n",
      "skew after cube root: -1.980774060506396\n",
      "skew after square: -0.14809077284799108\n"
     ]
    },
    {
     "data": {
      "image/png": "[encoded data removed]",
      "text/plain": [
       "<Figure size 360x144 with 1 Axes>"
      ]
     },
     "metadata": {
      "needs_background": "light"
     },
     "output_type": "display_data"
    },
    {
     "name": "stdout",
     "output_type": "stream",
     "text": [
      "mean: 75.88112800623448 , std: 14.874552801691513\n"
     ]
    },
    {
     "data": {
      "image/png": "[encoded data removed]",
      "text/plain": [
       "<Figure size 360x144 with 1 Axes>"
      ]
     },
     "metadata": {
      "needs_background": "light"
     },
     "output_type": "display_data"
    },
    {
     "name": "stdout",
     "output_type": "stream",
     "text": [
      "mean: 5979.197908548852 , std: 2073.8239849606457\n"
     ]
    }
   ],
   "source": [
    "df = stf(data['horse_high_speed_1'])\n",
    "d = visualize_skew(df)\n",
    "transformed = np.power(d,2)\n",
    "visualize_normal(transformed)"
   ]
  },
  {
   "cell_type": "markdown",
   "id": "798eaa2e",
   "metadata": {},
   "source": [
    "### avg class - no skew reduction"
   ]
  },
  {
   "cell_type": "code",
   "execution_count": 145,
   "id": "33495ecf",
   "metadata": {},
   "outputs": [
    {
     "name": "stdout",
     "output_type": "stream",
     "text": [
      "skew: -0.2493321368691744\n",
      "skew after log: -1.0215164061703075\n",
      "skew after sqrt: -0.5502100429930757\n",
      "skew after cube root: -0.676048449638142\n",
      "skew after square: 0.236465497758258\n"
     ]
    },
    {
     "data": {
      "image/png": "[encoded data removed]",
      "text/plain": [
       "<Figure size 360x144 with 1 Axes>"
      ]
     },
     "metadata": {
      "needs_background": "light"
     },
     "output_type": "display_data"
    },
    {
     "name": "stdout",
     "output_type": "stream",
     "text": [
      "mean: 77.11999388566187 , std: 10.521634877199917\n"
     ]
    },
    {
     "data": {
      "image/png": "[encoded data removed]",
      "text/plain": [
       "<Figure size 360x144 with 1 Axes>"
      ]
     },
     "metadata": {
      "needs_background": "light"
     },
     "output_type": "display_data"
    },
    {
     "name": "stdout",
     "output_type": "stream",
     "text": [
      "mean: 6058.198257413635 , std: 1604.538503308611\n"
     ]
    }
   ],
   "source": [
    "df = stf(data['horse_avg_class_1'])\n",
    "d = visualize_skew(df)\n",
    "transformed = np.power(d,2)\n",
    "visualize_normal(transformed)"
   ]
  },
  {
   "cell_type": "markdown",
   "id": "341145ae",
   "metadata": {},
   "source": [
    "### last class - no skew reduction"
   ]
  },
  {
   "cell_type": "code",
   "execution_count": 146,
   "id": "74817623",
   "metadata": {},
   "outputs": [
    {
     "name": "stdout",
     "output_type": "stream",
     "text": [
      "skew: -0.24380791595718784\n",
      "skew after log: -1.1055856420427692\n",
      "skew after sqrt: -0.5940609464872146\n",
      "skew after cube root: -0.736275358636574\n",
      "skew after square: 0.32284355220422345\n"
     ]
    },
    {
     "data": {
      "image/png": "[encoded data removed]",
      "text/plain": [
       "<Figure size 360x144 with 1 Axes>"
      ]
     },
     "metadata": {
      "needs_background": "light"
     },
     "output_type": "display_data"
    },
    {
     "name": "stdout",
     "output_type": "stream",
     "text": [
      "mean: 78.21593280282936 , std: 11.46674447715718\n"
     ]
    },
    {
     "data": {
      "image/png": "[encoded data removed]",
      "text/plain": [
       "<Figure size 360x144 with 1 Axes>"
      ]
     },
     "metadata": {
      "needs_background": "light"
     },
     "output_type": "display_data"
    },
    {
     "name": "stdout",
     "output_type": "stream",
     "text": [
      "mean: 6249.218373121132 , std: 1774.6120239404127\n"
     ]
    }
   ],
   "source": [
    "df = stf(data['horse_last_class_1'])\n",
    "d = visualize_skew(df)\n",
    "transformed = np.power(d,2)\n",
    "visualize_normal(transformed)"
   ]
  },
  {
   "cell_type": "markdown",
   "id": "80119631",
   "metadata": {},
   "source": [
    "### early - sqrt"
   ]
  },
  {
   "cell_type": "code",
   "execution_count": 185,
   "id": "f83628e8",
   "metadata": {},
   "outputs": [
    {
     "name": "stdout",
     "output_type": "stream",
     "text": [
      "skew: 0.6363991049310506\n",
      "skew after log: -0.5910472926809454\n",
      "skew after sqrt: 0.030535058611420515\n",
      "skew after cube root: -0.16810445460680573\n",
      "skew after square: 2.633591866723278\n"
     ]
    },
    {
     "data": {
      "image/png": "[encoded data removed]",
      "text/plain": [
       "<Figure size 360x144 with 1 Axes>"
      ]
     },
     "metadata": {
      "needs_background": "light"
     },
     "output_type": "display_data"
    },
    {
     "name": "stdout",
     "output_type": "stream",
     "text": [
      "mean: 4.72146997331339 , std: 1.824497222623094\n"
     ]
    },
    {
     "data": {
      "image/png": "[encoded data removed]",
      "text/plain": [
       "<Figure size 360x144 with 1 Axes>"
      ]
     },
     "metadata": {
      "needs_background": "light"
     },
     "output_type": "display_data"
    },
    {
     "name": "stdout",
     "output_type": "stream",
     "text": [
      "mean: 2.131388448313969 , std: 0.42267393544807175\n"
     ]
    }
   ],
   "source": [
    "df = stf(data['early_1']).replace(0, np.nan)\n",
    "d = visualize_skew(df)\n",
    "transformed = np.sqrt(d)\n",
    "visualize_normal(transformed)"
   ]
  },
  {
   "cell_type": "markdown",
   "id": "9f28bd7c",
   "metadata": {},
   "source": [
    "### middle - sqrt"
   ]
  },
  {
   "cell_type": "code",
   "execution_count": 186,
   "id": "61e47d68",
   "metadata": {},
   "outputs": [
    {
     "name": "stdout",
     "output_type": "stream",
     "text": [
      "skew: 0.5512888342416863\n",
      "skew after log: -0.6522665969443884\n",
      "skew after sqrt: -0.023966255058272747\n",
      "skew after cube root: -0.22216436799363737\n",
      "skew after square: 2.1186762580798053\n"
     ]
    },
    {
     "data": {
      "image/png": "[encoded data removed]",
      "text/plain": [
       "<Figure size 360x144 with 1 Axes>"
      ]
     },
     "metadata": {
      "needs_background": "light"
     },
     "output_type": "display_data"
    },
    {
     "name": "stdout",
     "output_type": "stream",
     "text": [
      "mean: 4.640023117064134 , std: 1.6488285053226905\n"
     ]
    },
    {
     "data": {
      "image/png": "[encoded data removed]",
      "text/plain": [
       "<Figure size 360x144 with 1 Axes>"
      ]
     },
     "metadata": {
      "needs_background": "light"
     },
     "output_type": "display_data"
    },
    {
     "name": "stdout",
     "output_type": "stream",
     "text": [
      "mean: 2.1191038092670085 , std: 0.38655162994636016\n"
     ]
    }
   ],
   "source": [
    "df = stf(data['middle_1']).replace(0, np.nan)\n",
    "d = visualize_skew(df)\n",
    "transformed = np.sqrt(d)\n",
    "visualize_normal(transformed)"
   ]
  },
  {
   "cell_type": "markdown",
   "id": "98e9fc43",
   "metadata": {},
   "source": [
    "### finish - sqrt"
   ]
  },
  {
   "cell_type": "code",
   "execution_count": 187,
   "id": "491c1336",
   "metadata": {},
   "outputs": [
    {
     "name": "stdout",
     "output_type": "stream",
     "text": [
      "skew: 0.45579281776129504\n",
      "skew after log: -1.1386817825318731\n",
      "skew after sqrt: -0.24698915075792163\n",
      "skew after cube root: -0.5186831539341876\n",
      "skew after square: 1.6251028202895619\n"
     ]
    },
    {
     "data": {
      "image/png": "[encoded data removed]",
      "text/plain": [
       "<Figure size 360x144 with 1 Axes>"
      ]
     },
     "metadata": {
      "needs_background": "light"
     },
     "output_type": "display_data"
    },
    {
     "name": "stdout",
     "output_type": "stream",
     "text": [
      "mean: 4.4720795444888255 , std: 1.445734694587513\n"
     ]
    },
    {
     "data": {
      "image/png": "[encoded data removed]",
      "text/plain": [
       "<Figure size 360x144 with 1 Axes>"
      ]
     },
     "metadata": {
      "needs_background": "light"
     },
     "output_type": "display_data"
    },
    {
     "name": "stdout",
     "output_type": "stream",
     "text": [
      "mean: 2.0855172954453436 , std: 0.3502815366061491\n"
     ]
    }
   ],
   "source": [
    "df = stf(data['finish_1']).replace(0, np.nan)\n",
    "d = visualize_skew(df)\n",
    "transformed = np.sqrt(d)\n",
    "visualize_normal(transformed)"
   ]
  },
  {
   "cell_type": "markdown",
   "id": "8519b763",
   "metadata": {},
   "source": [
    "### starts - log"
   ]
  },
  {
   "cell_type": "code",
   "execution_count": 189,
   "id": "ffdf1a02",
   "metadata": {},
   "outputs": [
    {
     "name": "stdout",
     "output_type": "stream",
     "text": [
      "skew: 3.41848986721763\n",
      "skew after log: 0.086165369238822\n",
      "skew after sqrt: 1.760993630259879\n",
      "skew after cube root: 1.1947944071803074\n",
      "skew after square: 6.087718517007955\n"
     ]
    },
    {
     "data": {
      "image/png": "[encoded data removed]",
      "text/plain": [
       "<Figure size 360x144 with 1 Axes>"
      ]
     },
     "metadata": {
      "needs_background": "light"
     },
     "output_type": "display_data"
    },
    {
     "name": "stdout",
     "output_type": "stream",
     "text": [
      "mean: 65.30026723102031 , std: 122.12617156616734\n"
     ]
    },
    {
     "data": {
      "image/png": "[encoded data removed]",
      "text/plain": [
       "<Figure size 360x144 with 1 Axes>"
      ]
     },
     "metadata": {
      "needs_background": "light"
     },
     "output_type": "display_data"
    },
    {
     "name": "stdout",
     "output_type": "stream",
     "text": [
      "mean: 2.9269913008286803 , std: 1.6593574214464766\n"
     ]
    }
   ],
   "source": [
    "df = stf(data['jockey_trainer_starts_1']).replace(0, np.nan)\n",
    "d = visualize_skew(df)\n",
    "transformed = np.log(d)\n",
    "visualize_normal(transformed)"
   ]
  },
  {
   "cell_type": "markdown",
   "id": "cecec97f",
   "metadata": {},
   "source": [
    "### 1st - log"
   ]
  },
  {
   "cell_type": "code",
   "execution_count": 190,
   "id": "6a5db48b",
   "metadata": {},
   "outputs": [
    {
     "name": "stdout",
     "output_type": "stream",
     "text": [
      "skew: 3.2472131707657415\n",
      "skew after log: 0.40963835698372525\n",
      "skew after sqrt: 1.6757898307822272\n",
      "skew after cube root: 1.2158164646472753\n",
      "skew after square: 6.933521195406916\n"
     ]
    },
    {
     "data": {
      "image/png": "[encoded data removed]",
      "text/plain": [
       "<Figure size 360x144 with 1 Axes>"
      ]
     },
     "metadata": {
      "needs_background": "light"
     },
     "output_type": "display_data"
    },
    {
     "name": "stdout",
     "output_type": "stream",
     "text": [
      "mean: 16.15697299975229 , std: 27.400937056069274\n"
     ]
    },
    {
     "data": {
      "image/png": "[encoded data removed]",
      "text/plain": [
       "<Figure size 360x144 with 1 Axes>"
      ]
     },
     "metadata": {
      "needs_background": "light"
     },
     "output_type": "display_data"
    },
    {
     "name": "stdout",
     "output_type": "stream",
     "text": [
      "mean: 1.7949903627472572 , std: 1.3861306181784983\n"
     ]
    }
   ],
   "source": [
    "df = stf(data['jockey_trainer_1st_1']).replace(0, np.nan)\n",
    "d = visualize_skew(df)\n",
    "transformed = np.log(d)\n",
    "visualize_normal(transformed)"
   ]
  },
  {
   "cell_type": "markdown",
   "id": "f3fcdc5a",
   "metadata": {},
   "source": [
    "### 2nd - log"
   ]
  },
  {
   "cell_type": "code",
   "execution_count": 191,
   "id": "d8b36e00",
   "metadata": {},
   "outputs": [
    {
     "name": "stdout",
     "output_type": "stream",
     "text": [
      "skew: 2.802779540602367\n",
      "skew after log: 0.4123573710016314\n",
      "skew after sqrt: 1.5655130213088042\n",
      "skew after cube root: 1.1592075278502705\n",
      "skew after square: 5.034100765184865\n"
     ]
    },
    {
     "data": {
      "image/png": "[encoded data removed]",
      "text/plain": [
       "<Figure size 360x144 with 1 Axes>"
      ]
     },
     "metadata": {
      "needs_background": "light"
     },
     "output_type": "display_data"
    },
    {
     "name": "stdout",
     "output_type": "stream",
     "text": [
      "mean: 14.045904041020632 , std: 22.306781952346622\n"
     ]
    },
    {
     "data": {
      "image/png": "[encoded data removed]",
      "text/plain": [
       "<Figure size 360x144 with 1 Axes>"
      ]
     },
     "metadata": {
      "needs_background": "light"
     },
     "output_type": "display_data"
    },
    {
     "name": "stdout",
     "output_type": "stream",
     "text": [
      "mean: 1.7331409935378588 , std: 1.3282434007477923\n"
     ]
    }
   ],
   "source": [
    "df = stf(data['jockey_trainer_2nd_1']).replace(0, np.nan)\n",
    "d = visualize_skew(df)\n",
    "transformed = np.log(d)\n",
    "visualize_normal(transformed)"
   ]
  },
  {
   "cell_type": "markdown",
   "id": "c8f22fba",
   "metadata": {},
   "source": [
    "### 3rd - log"
   ]
  },
  {
   "cell_type": "code",
   "execution_count": 192,
   "id": "28b5005e",
   "metadata": {},
   "outputs": [
    {
     "name": "stdout",
     "output_type": "stream",
     "text": [
      "skew: 2.903009477961626\n",
      "skew after log: 0.40792247736859966\n",
      "skew after sqrt: 1.579361848593706\n",
      "skew after cube root: 1.1577198729595422\n",
      "skew after square: 5.220313184374037\n"
     ]
    },
    {
     "data": {
      "image/png": "[encoded data removed]",
      "text/plain": [
       "<Figure size 360x144 with 1 Axes>"
      ]
     },
     "metadata": {
      "needs_background": "light"
     },
     "output_type": "display_data"
    },
    {
     "name": "stdout",
     "output_type": "stream",
     "text": [
      "mean: 12.648391991776396 , std: 19.919907179136192\n"
     ]
    },
    {
     "data": {
      "image/png": "[encoded data removed]",
      "text/plain": [
       "<Figure size 360x144 with 1 Axes>"
      ]
     },
     "metadata": {
      "needs_background": "light"
     },
     "output_type": "display_data"
    },
    {
     "name": "stdout",
     "output_type": "stream",
     "text": [
      "mean: 1.660825726870217 , std: 1.302657655852636\n"
     ]
    }
   ],
   "source": [
    "df = stf(data['jockey_trainer_3rd_1']).replace(0, np.nan)\n",
    "d = visualize_skew(df)\n",
    "transformed = np.log(d)\n",
    "visualize_normal(transformed)"
   ]
  },
  {
   "cell_type": "markdown",
   "id": "80c1aee8",
   "metadata": {},
   "source": [
    "## Models"
   ]
  },
  {
   "cell_type": "code",
   "execution_count": 49,
   "id": "6081567c",
   "metadata": {},
   "outputs": [],
   "source": [
    "from sklearn.ensemble import RandomForestClassifier"
   ]
  },
  {
   "cell_type": "code",
   "execution_count": 57,
   "id": "c861f4ab",
   "metadata": {},
   "outputs": [
    {
     "data": {
      "text/plain": [
       "RandomForestClassifier()"
      ]
     },
     "execution_count": 57,
     "metadata": {},
     "output_type": "execute_result"
    }
   ],
   "source": [
    "rf = RandomForestClassifier()\n",
    "rf.fit(Xs['X_train'], y_train)"
   ]
  },
  {
   "cell_type": "code",
   "execution_count": 58,
   "id": "f58d1dfb",
   "metadata": {},
   "outputs": [],
   "source": [
    "preds = rf.predict(Xs['X_val'])"
   ]
  },
  {
   "cell_type": "code",
   "execution_count": 59,
   "id": "98d0b54d",
   "metadata": {},
   "outputs": [
    {
     "data": {
      "text/plain": [
       "array([[6567, 2483],\n",
       "       [2533, 6661]])"
      ]
     },
     "execution_count": 59,
     "metadata": {},
     "output_type": "execute_result"
    }
   ],
   "source": [
    "from sklearn.metrics import confusion_matrix\n",
    "\n",
    "confusion_matrix(preds, y_val)"
   ]
  }
 ],
 "metadata": {
  "kernelspec": {
   "display_name": "Python 3 (ipykernel)",
   "language": "python",
   "name": "python3"
  },
  "language_info": {
   "codemirror_mode": {
    "name": "ipython",
    "version": 3
   },
   "file_extension": ".py",
   "mimetype": "text/x-python",
   "name": "python",
   "nbconvert_exporter": "python",
   "pygments_lexer": "ipython3",
   "version": "3.9.10"
  }
 },
 "nbformat": 4,
 "nbformat_minor": 5
}
