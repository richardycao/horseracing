{
 "cells": [
  {
   "cell_type": "code",
   "execution_count": 1,
   "id": "268f68c3",
   "metadata": {},
   "outputs": [],
   "source": [
    "import pandas as pd"
   ]
  },
  {
   "cell_type": "code",
   "execution_count": 6,
   "id": "d6034ebc",
   "metadata": {},
   "outputs": [],
   "source": [
    "details = pd.read_csv('details_9m.csv', header=None)"
   ]
  },
  {
   "cell_type": "code",
   "execution_count": 7,
   "id": "8603afe0",
   "metadata": {},
   "outputs": [
    {
     "data": {
      "text/html": [
       "<div>\n",
       "<style scoped>\n",
       "    .dataframe tbody tr th:only-of-type {\n",
       "        vertical-align: middle;\n",
       "    }\n",
       "\n",
       "    .dataframe tbody tr th {\n",
       "        vertical-align: top;\n",
       "    }\n",
       "\n",
       "    .dataframe thead th {\n",
       "        text-align: right;\n",
       "    }\n",
       "</style>\n",
       "<table border=\"1\" class=\"dataframe\">\n",
       "  <thead>\n",
       "    <tr style=\"text-align: right;\">\n",
       "      <th></th>\n",
       "      <th>0</th>\n",
       "      <th>1</th>\n",
       "      <th>2</th>\n",
       "      <th>3</th>\n",
       "      <th>4</th>\n",
       "      <th>5</th>\n",
       "    </tr>\n",
       "  </thead>\n",
       "  <tbody>\n",
       "    <tr>\n",
       "      <th>0</th>\n",
       "      <td>2150.0</td>\n",
       "      <td>Mtr</td>\n",
       "      <td>38000.0</td>\n",
       "      <td>Dirt</td>\n",
       "      <td>H</td>\n",
       "      <td>Trot</td>\n",
       "    </tr>\n",
       "    <tr>\n",
       "      <th>1</th>\n",
       "      <td>2150.0</td>\n",
       "      <td>Mtr</td>\n",
       "      <td>29000.0</td>\n",
       "      <td>Dirt</td>\n",
       "      <td>H</td>\n",
       "      <td>Trot</td>\n",
       "    </tr>\n",
       "    <tr>\n",
       "      <th>2</th>\n",
       "      <td>2875.0</td>\n",
       "      <td>Mtr</td>\n",
       "      <td>44000.0</td>\n",
       "      <td>Dirt</td>\n",
       "      <td>H</td>\n",
       "      <td>Trot</td>\n",
       "    </tr>\n",
       "    <tr>\n",
       "      <th>3</th>\n",
       "      <td>2150.0</td>\n",
       "      <td>Mtr</td>\n",
       "      <td>32000.0</td>\n",
       "      <td>Dirt</td>\n",
       "      <td>H</td>\n",
       "      <td>Trot</td>\n",
       "    </tr>\n",
       "    <tr>\n",
       "      <th>4</th>\n",
       "      <td>2875.0</td>\n",
       "      <td>Mtr</td>\n",
       "      <td>29000.0</td>\n",
       "      <td>Dirt</td>\n",
       "      <td>H</td>\n",
       "      <td>Trot</td>\n",
       "    </tr>\n",
       "  </tbody>\n",
       "</table>\n",
       "</div>"
      ],
      "text/plain": [
       "        0    1        2     3  4     5\n",
       "0  2150.0  Mtr  38000.0  Dirt  H  Trot\n",
       "1  2150.0  Mtr  29000.0  Dirt  H  Trot\n",
       "2  2875.0  Mtr  44000.0  Dirt  H  Trot\n",
       "3  2150.0  Mtr  32000.0  Dirt  H  Trot\n",
       "4  2875.0  Mtr  29000.0  Dirt  H  Trot"
      ]
     },
     "execution_count": 7,
     "metadata": {},
     "output_type": "execute_result"
    }
   ],
   "source": [
    "details.head()"
   ]
  },
  {
   "cell_type": "code",
   "execution_count": 9,
   "id": "ae9e3b61",
   "metadata": {},
   "outputs": [
    {
     "data": {
      "text/plain": [
       "F      58991\n",
       "M      38787\n",
       "Mtr    13249\n",
       "Y       4629\n",
       "Name: 1, dtype: int64"
      ]
     },
     "execution_count": 9,
     "metadata": {},
     "output_type": "execute_result"
    }
   ],
   "source": [
    "details.iloc[:,1].value_counts()"
   ]
  },
  {
   "cell_type": "code",
   "execution_count": 10,
   "id": "049549ea",
   "metadata": {},
   "outputs": [
    {
     "data": {
      "text/plain": [
       "Dirt             73219\n",
       "Turf             31013\n",
       "Synthetic        10801\n",
       "Inner Track        452\n",
       "Outer Track        108\n",
       "Downhill Turf       35\n",
       "Hurdle              14\n",
       "Steeplechase        14\n",
       "Name: 3, dtype: int64"
      ]
     },
     "execution_count": 10,
     "metadata": {},
     "output_type": "execute_result"
    }
   ],
   "source": [
    "details.iloc[:,3].value_counts()"
   ]
  },
  {
   "cell_type": "code",
   "execution_count": 11,
   "id": "52f8b248",
   "metadata": {},
   "outputs": [
    {
     "data": {
      "text/plain": [
       "T     62959\n",
       "H     47852\n",
       "Q      4194\n",
       "L       313\n",
       "MX      271\n",
       "A        67\n",
       "Name: 4, dtype: int64"
      ]
     },
     "execution_count": 11,
     "metadata": {},
     "output_type": "execute_result"
    }
   ],
   "source": [
    "details.iloc[:,4].value_counts()"
   ]
  },
  {
   "cell_type": "code",
   "execution_count": 18,
   "id": "6623db4e",
   "metadata": {},
   "outputs": [
    {
     "data": {
      "text/plain": [
       "Pace                           26947\n",
       "Trot                           20236\n",
       "Handicap                       18943\n",
       "Claiming                       12160\n",
       "Maiden Claiming                 5141\n",
       "Allowance                       4990\n",
       "Maiden Special Weight           3464\n",
       "Maiden Special                  3127\n",
       "Maiden                          2945\n",
       "Stakes                          2581\n",
       "Allowance Optional Claiming     2325\n",
       "Name: 5, dtype: int64"
      ]
     },
     "execution_count": 18,
     "metadata": {},
     "output_type": "execute_result"
    }
   ],
   "source": [
    "details.iloc[:,5].value_counts()[:11]"
   ]
  },
  {
   "cell_type": "code",
   "execution_count": 15,
   "id": "99761125",
   "metadata": {},
   "outputs": [
    {
     "data": {
      "text/plain": [
       "115660"
      ]
     },
     "execution_count": 15,
     "metadata": {},
     "output_type": "execute_result"
    }
   ],
   "source": [
    "details.shape[0]"
   ]
  },
  {
   "cell_type": "code",
   "execution_count": null,
   "id": "7345d5a8",
   "metadata": {},
   "outputs": [],
   "source": []
  }
 ],
 "metadata": {
  "kernelspec": {
   "display_name": "Python 3 (ipykernel)",
   "language": "python",
   "name": "python3"
  },
  "language_info": {
   "codemirror_mode": {
    "name": "ipython",
    "version": 3
   },
   "file_extension": ".py",
   "mimetype": "text/x-python",
   "name": "python",
   "nbconvert_exporter": "python",
   "pygments_lexer": "ipython3",
   "version": "3.9.10"
  }
 },
 "nbformat": 4,
 "nbformat_minor": 5
}
