{
 "cells": [
  {
   "cell_type": "code",
   "execution_count": 113,
   "id": "d7282141",
   "metadata": {},
   "outputs": [],
   "source": [
    "import pandas as pd\n",
    "import datetime as dt\n",
    "import json"
   ]
  },
  {
   "cell_type": "code",
   "execution_count": 102,
   "id": "3a26bbcf",
   "metadata": {},
   "outputs": [],
   "source": [
    "path = '../network_read/hist_data/2022-04-16/AQU/4'\n",
    "path_parts = path.split('/')\n",
    "date = path_parts[-3]\n",
    "track_id = path_parts[-2]\n",
    "race_number = path_parts[-1]\n",
    "race_dt = dt.datetime.strptime(date, '%Y-%m-%d')\n",
    "\n",
    "pd.set_option('display.max_columns', None)"
   ]
  },
  {
   "cell_type": "code",
   "execution_count": 103,
   "id": "22a5f9ab",
   "metadata": {},
   "outputs": [],
   "source": [
    "details = pd.read_csv(f'{path}/details.csv')"
   ]
  },
  {
   "cell_type": "code",
   "execution_count": 104,
   "id": "aab934a4",
   "metadata": {},
   "outputs": [],
   "source": [
    "bis = pd.read_csv(f'{path}/bis.csv')"
   ]
  },
  {
   "cell_type": "code",
   "execution_count": 105,
   "id": "41fa63a2",
   "metadata": {},
   "outputs": [],
   "source": [
    "# Remove scratched\n",
    "bis = bis[bis['scratched'] == False]\n",
    "\n",
    "check_for_nans = ['powerRating','daysOff','horseWins','horseStarts','avgClassRating','highSpeed','avgSpeed','lastClassRating',\n",
    "                  'avgDistance','numRaces','early','middle','finish','starts','wins','places','shows','finishPosition',\n",
    "                  ]\n",
    "for col in check_for_nans:\n",
    "    if bis[col].isna().sum() != 0:\n",
    "        # (TODO) return (skip this race)\n",
    "        pass\n",
    "\n",
    "bis.loc[:,'age'] = race_dt.year - bis.loc[:,'birthday']\n",
    "bis.loc[:,'winPayoff'] = bis.loc[:,'winPayoff'] / bis.loc[:,'betAmount']\n",
    "bis.loc[:,'placePayoff'] = bis.loc[:,'placePayoff'] / bis.loc[:,'betAmount']\n",
    "bis.loc[:,'showPayoff'] = bis.loc[:,'showPayoff'] / bis.loc[:,'betAmount']\n",
    "\n",
    "# for horseName, jockey, trainer, owner, sire, damSire, dam. keep them for now. later, find which ones are most common and one-hot on those.\n",
    "\n",
    "to_keep = [#'runnerId',\n",
    "           'horseName','jockey','trainer','owner','weight','sire','damSire','dam','age','sex','powerRating',\n",
    "           'daysOff','horseWins','horseStarts','avgClassRating','highSpeed','avgSpeed','lastClassRating','avgDistance',\n",
    "           'finishPosition']\n",
    "bis = bis[to_keep]"
   ]
  },
  {
   "cell_type": "code",
   "execution_count": 106,
   "id": "c846e157",
   "metadata": {},
   "outputs": [
    {
     "data": {
      "text/html": [
       "<div>\n",
       "<style scoped>\n",
       "    .dataframe tbody tr th:only-of-type {\n",
       "        vertical-align: middle;\n",
       "    }\n",
       "\n",
       "    .dataframe tbody tr th {\n",
       "        vertical-align: top;\n",
       "    }\n",
       "\n",
       "    .dataframe thead th {\n",
       "        text-align: right;\n",
       "    }\n",
       "</style>\n",
       "<table border=\"1\" class=\"dataframe\">\n",
       "  <thead>\n",
       "    <tr style=\"text-align: right;\">\n",
       "      <th></th>\n",
       "      <th>horseName</th>\n",
       "      <th>jockey</th>\n",
       "      <th>trainer</th>\n",
       "      <th>owner</th>\n",
       "      <th>weight</th>\n",
       "      <th>sire</th>\n",
       "      <th>damSire</th>\n",
       "      <th>dam</th>\n",
       "      <th>age</th>\n",
       "      <th>sex</th>\n",
       "      <th>powerRating</th>\n",
       "      <th>daysOff</th>\n",
       "      <th>horseWins</th>\n",
       "      <th>horseStarts</th>\n",
       "      <th>avgClassRating</th>\n",
       "      <th>highSpeed</th>\n",
       "      <th>avgSpeed</th>\n",
       "      <th>lastClassRating</th>\n",
       "      <th>avgDistance</th>\n",
       "      <th>finishPosition</th>\n",
       "    </tr>\n",
       "  </thead>\n",
       "  <tbody>\n",
       "    <tr>\n",
       "      <th>0</th>\n",
       "      <td>Alms</td>\n",
       "      <td>Castellano Javier</td>\n",
       "      <td>Stidham Michael</td>\n",
       "      <td>Godolphin, LLC</td>\n",
       "      <td>118</td>\n",
       "      <td>City Zip</td>\n",
       "      <td>Empire Maker</td>\n",
       "      <td>Charity Belle</td>\n",
       "      <td>5</td>\n",
       "      <td>M</td>\n",
       "      <td>101.1</td>\n",
       "      <td>41</td>\n",
       "      <td>2</td>\n",
       "      <td>8</td>\n",
       "      <td>105.0</td>\n",
       "      <td>105.0</td>\n",
       "      <td>96.0</td>\n",
       "      <td>106.0</td>\n",
       "      <td>97.0</td>\n",
       "      <td>4.0</td>\n",
       "    </tr>\n",
       "    <tr>\n",
       "      <th>2</th>\n",
       "      <td>Plum Ali</td>\n",
       "      <td>Franco Manuel</td>\n",
       "      <td>Clement Christophe</td>\n",
       "      <td>Dubb, Michael, Madaket Stables LLC and Caruso,...</td>\n",
       "      <td>120</td>\n",
       "      <td>First Samurai</td>\n",
       "      <td>Stroll</td>\n",
       "      <td>Skipping</td>\n",
       "      <td>4</td>\n",
       "      <td>F</td>\n",
       "      <td>107.3</td>\n",
       "      <td>152</td>\n",
       "      <td>4</td>\n",
       "      <td>11</td>\n",
       "      <td>110.0</td>\n",
       "      <td>111.0</td>\n",
       "      <td>101.0</td>\n",
       "      <td>111.0</td>\n",
       "      <td>98.0</td>\n",
       "      <td>1.0</td>\n",
       "    </tr>\n",
       "    <tr>\n",
       "      <th>4</th>\n",
       "      <td>Flower Point</td>\n",
       "      <td>Lezcano Jose</td>\n",
       "      <td>Mcgaughey Iii Claude R</td>\n",
       "      <td>Feiger, Steve</td>\n",
       "      <td>120</td>\n",
       "      <td>Point Of Entry</td>\n",
       "      <td>Lewis Michael</td>\n",
       "      <td>Fab Flowers</td>\n",
       "      <td>6</td>\n",
       "      <td>M</td>\n",
       "      <td>103.6</td>\n",
       "      <td>140</td>\n",
       "      <td>1</td>\n",
       "      <td>4</td>\n",
       "      <td>101.0</td>\n",
       "      <td>104.0</td>\n",
       "      <td>96.0</td>\n",
       "      <td>104.0</td>\n",
       "      <td>100.0</td>\n",
       "      <td>3.0</td>\n",
       "    </tr>\n",
       "    <tr>\n",
       "      <th>5</th>\n",
       "      <td>Technical Analysis (Ire)</td>\n",
       "      <td>Davis Dylan</td>\n",
       "      <td>Brown Chad C</td>\n",
       "      <td>Klaravich Stables, Inc.</td>\n",
       "      <td>123</td>\n",
       "      <td>Kingman (Gb)</td>\n",
       "      <td>Sea The Stars (Ire)</td>\n",
       "      <td>Sealife (Ire)</td>\n",
       "      <td>4</td>\n",
       "      <td>F</td>\n",
       "      <td>106.3</td>\n",
       "      <td>181</td>\n",
       "      <td>4</td>\n",
       "      <td>7</td>\n",
       "      <td>95.0</td>\n",
       "      <td>106.0</td>\n",
       "      <td>95.0</td>\n",
       "      <td>113.0</td>\n",
       "      <td>93.0</td>\n",
       "      <td>2.0</td>\n",
       "    </tr>\n",
       "  </tbody>\n",
       "</table>\n",
       "</div>"
      ],
      "text/plain": [
       "                  horseName             jockey                 trainer  \\\n",
       "0                      Alms  Castellano Javier         Stidham Michael   \n",
       "2                  Plum Ali      Franco Manuel      Clement Christophe   \n",
       "4              Flower Point       Lezcano Jose  Mcgaughey Iii Claude R   \n",
       "5  Technical Analysis (Ire)        Davis Dylan            Brown Chad C   \n",
       "\n",
       "                                               owner  weight            sire  \\\n",
       "0                                     Godolphin, LLC     118        City Zip   \n",
       "2  Dubb, Michael, Madaket Stables LLC and Caruso,...     120   First Samurai   \n",
       "4                                      Feiger, Steve     120  Point Of Entry   \n",
       "5                            Klaravich Stables, Inc.     123    Kingman (Gb)   \n",
       "\n",
       "               damSire            dam  age sex  powerRating  daysOff  \\\n",
       "0         Empire Maker  Charity Belle    5   M        101.1       41   \n",
       "2               Stroll       Skipping    4   F        107.3      152   \n",
       "4        Lewis Michael    Fab Flowers    6   M        103.6      140   \n",
       "5  Sea The Stars (Ire)  Sealife (Ire)    4   F        106.3      181   \n",
       "\n",
       "   horseWins  horseStarts  avgClassRating  highSpeed  avgSpeed  \\\n",
       "0          2            8           105.0      105.0      96.0   \n",
       "2          4           11           110.0      111.0     101.0   \n",
       "4          1            4           101.0      104.0      96.0   \n",
       "5          4            7            95.0      106.0      95.0   \n",
       "\n",
       "   lastClassRating  avgDistance  finishPosition  \n",
       "0            106.0         97.0             4.0  \n",
       "2            111.0         98.0             1.0  \n",
       "4            104.0        100.0             3.0  \n",
       "5            113.0         93.0             2.0  "
      ]
     },
     "execution_count": 106,
     "metadata": {},
     "output_type": "execute_result"
    }
   ],
   "source": [
    "bis"
   ]
  },
  {
   "cell_type": "code",
   "execution_count": 107,
   "id": "e27f5614",
   "metadata": {},
   "outputs": [],
   "source": [
    "dist_to_meters = {'f': 201.168,\n",
    "                  'mtr': 1,     # mtr (meter) comes before m (mile) in search\n",
    "                  'm': 1609.34,\n",
    "                  'y': 0.9144}\n",
    "details.loc[0,'distance'] = details.loc[0,'distance'] * dist_to_meters[details.loc[0,'distance_unit'].lower()]"
   ]
  },
  {
   "cell_type": "code",
   "execution_count": 108,
   "id": "137bf0f4",
   "metadata": {},
   "outputs": [],
   "source": [
    "details = details[['distance','surface_name','race_type_code','race_class']]"
   ]
  },
  {
   "cell_type": "code",
   "execution_count": 115,
   "id": "e4db91c8",
   "metadata": {},
   "outputs": [],
   "source": [
    "bis_list = bis.to_dict('records')\n",
    "for idx, bi in enumerate(bis_list):\n",
    "    details.loc[0,f'bi{idx}'] = json.dumps(bi)\n"
   ]
  },
  {
   "cell_type": "code",
   "execution_count": 116,
   "id": "e9c93611",
   "metadata": {},
   "outputs": [
    {
     "data": {
      "text/html": [
       "<div>\n",
       "<style scoped>\n",
       "    .dataframe tbody tr th:only-of-type {\n",
       "        vertical-align: middle;\n",
       "    }\n",
       "\n",
       "    .dataframe tbody tr th {\n",
       "        vertical-align: top;\n",
       "    }\n",
       "\n",
       "    .dataframe thead th {\n",
       "        text-align: right;\n",
       "    }\n",
       "</style>\n",
       "<table border=\"1\" class=\"dataframe\">\n",
       "  <thead>\n",
       "    <tr style=\"text-align: right;\">\n",
       "      <th></th>\n",
       "      <th>distance</th>\n",
       "      <th>surface_name</th>\n",
       "      <th>race_type_code</th>\n",
       "      <th>race_class</th>\n",
       "      <th>bi0</th>\n",
       "      <th>bi1</th>\n",
       "      <th>bi2</th>\n",
       "      <th>bi3</th>\n",
       "    </tr>\n",
       "  </thead>\n",
       "  <tbody>\n",
       "    <tr>\n",
       "      <th>0</th>\n",
       "      <td>1609.344</td>\n",
       "      <td>Turf</td>\n",
       "      <td>T</td>\n",
       "      <td>Stakes</td>\n",
       "      <td>{\"horseName\": \"Alms\", \"jockey\": \"Castellano Ja...</td>\n",
       "      <td>{\"horseName\": \"Plum Ali\", \"jockey\": \"Franco Ma...</td>\n",
       "      <td>{\"horseName\": \"Flower Point\", \"jockey\": \"Lezca...</td>\n",
       "      <td>{\"horseName\": \"Technical Analysis (Ire)\", \"joc...</td>\n",
       "    </tr>\n",
       "  </tbody>\n",
       "</table>\n",
       "</div>"
      ],
      "text/plain": [
       "   distance surface_name race_type_code race_class  \\\n",
       "0  1609.344         Turf              T     Stakes   \n",
       "\n",
       "                                                 bi0  \\\n",
       "0  {\"horseName\": \"Alms\", \"jockey\": \"Castellano Ja...   \n",
       "\n",
       "                                                 bi1  \\\n",
       "0  {\"horseName\": \"Plum Ali\", \"jockey\": \"Franco Ma...   \n",
       "\n",
       "                                                 bi2  \\\n",
       "0  {\"horseName\": \"Flower Point\", \"jockey\": \"Lezca...   \n",
       "\n",
       "                                                 bi3  \n",
       "0  {\"horseName\": \"Technical Analysis (Ire)\", \"joc...  "
      ]
     },
     "execution_count": 116,
     "metadata": {},
     "output_type": "execute_result"
    }
   ],
   "source": [
    "details"
   ]
  },
  {
   "cell_type": "markdown",
   "id": "b4dd378a",
   "metadata": {},
   "source": [
    "## data_hist"
   ]
  },
  {
   "cell_type": "code",
   "execution_count": 120,
   "id": "9a9c27c2",
   "metadata": {},
   "outputs": [],
   "source": [
    "import numpy as np\n",
    "import pandas as pd\n",
    "import os\n",
    "import itertools\n",
    "import matplotlib.pyplot as plt\n",
    "import json\n",
    "from collections import defaultdict"
   ]
  },
  {
   "cell_type": "code",
   "execution_count": 162,
   "id": "1aeaba05",
   "metadata": {},
   "outputs": [],
   "source": [
    "horseracing_path = f'./'\n",
    "\n",
    "data = pd.read_csv(horseracing_path + 'hist_data.csv', header=None)\n",
    "num_horses = 10"
   ]
  },
  {
   "cell_type": "code",
   "execution_count": 165,
   "id": "91806639",
   "metadata": {},
   "outputs": [],
   "source": [
    "def extract_dict(dict_str):\n",
    "    try:\n",
    "        return json.loads(dict_str)\n",
    "    except:\n",
    "        return None\n",
    "def get_uniques(df, bi_feature, threshold=1):\n",
    "    uniques = defaultdict(lambda: 0)\n",
    "    for r in range(df.shape[0]):\n",
    "        for c in range(4,df.shape[1]):\n",
    "            d = extract_dict(df.iloc[r,c])\n",
    "            if d == None:\n",
    "                continue\n",
    "            uniques[d[bi_feature]] += 1\n",
    "    threshold_uniques = {k:v for k,v in uniques.items() if v >= threshold}\n",
    "    return {k: v for k, v in sorted(threshold_uniques.items(), key=lambda x: -x[1])}"
   ]
  },
  {
   "cell_type": "code",
   "execution_count": 167,
   "id": "af1d0aeb",
   "metadata": {},
   "outputs": [
    {
     "data": {
      "text/plain": [
       "{'Intervention': 13,\n",
       " 'Abnaa': 12,\n",
       " 'Coase': 12,\n",
       " 'Soyounique (Ire)': 10,\n",
       " 'Out For Justice': 10,\n",
       " 'Beverly Park': 10}"
      ]
     },
     "execution_count": 167,
     "metadata": {},
     "output_type": "execute_result"
    }
   ],
   "source": [
    "get_uniques(data, 'horseName', 10)"
   ]
  },
  {
   "cell_type": "code",
   "execution_count": 169,
   "id": "aca763c2",
   "metadata": {},
   "outputs": [
    {
     "data": {
      "text/plain": [
       "{'Gaffalione Tyler': 412,\n",
       " 'Saez Luis': 394,\n",
       " 'Hernandez Harry': 355,\n",
       " 'Gomez Jose A': 345,\n",
       " 'Herrera Diego A': 332,\n",
       " 'Ortiz, Jr. Irad': 324,\n",
       " 'Leon Sonny': 312,\n",
       " 'Ortiz Jose L': 312,\n",
       " 'Alvarado Junior': 312,\n",
       " 'Camacho Samy': 305,\n",
       " 'Davis Dylan': 301,\n",
       " 'Mccarthy Trevor': 301}"
      ]
     },
     "execution_count": 169,
     "metadata": {},
     "output_type": "execute_result"
    }
   ],
   "source": [
    "get_uniques(data, 'jockey', 300)"
   ]
  },
  {
   "cell_type": "code",
   "execution_count": 172,
   "id": "6df7b3b2",
   "metadata": {},
   "outputs": [
    {
     "data": {
      "text/plain": [
       "{'Bruno Schickedanz': 161,\n",
       " 'Hollywood Syndicate (Nom: Mr A Delpech)': 135,\n",
       " 'Edward C. Allred': 129,\n",
       " 'End Zone Athletics, Inc.': 121,\n",
       " 'End Zone Athletics Inc. (Karl Broberg and Matt Johanson)': 119,\n",
       " 'Steve F. Williams': 116,\n",
       " 'Mark N. Hibdon': 103,\n",
       " 'Danny R. Caldwell': 101}"
      ]
     },
     "execution_count": 172,
     "metadata": {},
     "output_type": "execute_result"
    }
   ],
   "source": [
    "get_uniques(data, 'owner', 100)"
   ]
  },
  {
   "cell_type": "code",
   "execution_count": 175,
   "id": "9feb27e8",
   "metadata": {},
   "outputs": [
    {
     "data": {
      "text/plain": [
       "{'Culotte': 18,\n",
       " 'Celestial Being': 18,\n",
       " 'Ready Reply': 16,\n",
       " 'Katie Katella': 16,\n",
       " 'Along Came Casey (Ire)': 16,\n",
       " \"Jimmy's Jewel\": 15,\n",
       " \"Sara's Smile\": 15,\n",
       " 'Guanahani': 15,\n",
       " 'Cabo Sunrise': 15,\n",
       " 'Arealhotlover': 15,\n",
       " 'April Eyes': 15,\n",
       " 'Restless Summer': 15,\n",
       " 'Miss Silky Cat': 15,\n",
       " 'Royal Grand Slam': 15}"
      ]
     },
     "execution_count": 175,
     "metadata": {},
     "output_type": "execute_result"
    }
   ],
   "source": [
    "get_uniques(data, 'dam', 15)"
   ]
  },
  {
   "cell_type": "code",
   "execution_count": 178,
   "id": "c34883d9",
   "metadata": {},
   "outputs": [
    {
     "data": {
      "text/plain": [
       "{nan: 2635,\n",
       " \"Unbridled's Song\": 686,\n",
       " 'Malibu Moon': 624,\n",
       " \"Giant's Causeway\": 620,\n",
       " 'Smart Strike': 581,\n",
       " 'Tapit': 575,\n",
       " 'Tiznow': 567,\n",
       " 'Distorted Humor': 541,\n",
       " \"Medaglia D'oro\": 502}"
      ]
     },
     "execution_count": 178,
     "metadata": {},
     "output_type": "execute_result"
    }
   ],
   "source": [
    "get_uniques(data, 'damSire', 500)"
   ]
  },
  {
   "cell_type": "code",
   "execution_count": 181,
   "id": "8081f4cd",
   "metadata": {},
   "outputs": [
    {
     "data": {
      "text/plain": [
       "{'Into Mischief': 442,\n",
       " 'Munnings': 388,\n",
       " 'Goldencents': 361,\n",
       " 'Hard Spun': 339,\n",
       " 'Cairo Prince': 336,\n",
       " 'Twirling Candy': 336,\n",
       " 'Tapiture': 326,\n",
       " 'Street Sense': 317,\n",
       " 'Congrats': 316,\n",
       " 'Violence': 309,\n",
       " 'Exaggerator': 302,\n",
       " 'Creative Cause': 302,\n",
       " 'Quality Road': 302}"
      ]
     },
     "execution_count": 181,
     "metadata": {},
     "output_type": "execute_result"
    }
   ],
   "source": [
    "get_uniques(data, 'sire', 300)"
   ]
  },
  {
   "cell_type": "code",
   "execution_count": 183,
   "id": "8acba3e5",
   "metadata": {},
   "outputs": [
    {
     "data": {
      "text/plain": [
       "{'Asmussen Steven M': 640,\n",
       " 'Broberg Karl': 436,\n",
       " 'Wong Jonathan': 418,\n",
       " 'Ness Jamie': 276,\n",
       " 'Maker Michael J': 257,\n",
       " 'Diodoro Robertino': 235,\n",
       " 'Farrior Anthony': 227,\n",
       " 'Casse Mark E': 224,\n",
       " 'P. A. Peter, South Africa': 208,\n",
       " 'Pletcher Todd A': 206,\n",
       " 'Joseph, Jr. Saffie A': 206,\n",
       " 'Cox Brad H': 205}"
      ]
     },
     "execution_count": 183,
     "metadata": {},
     "output_type": "execute_result"
    }
   ],
   "source": [
    "get_uniques(data, 'trainer', 200)"
   ]
  },
  {
   "cell_type": "code",
   "execution_count": null,
   "id": "4e03788e",
   "metadata": {},
   "outputs": [],
   "source": []
  }
 ],
 "metadata": {
  "kernelspec": {
   "display_name": "Python 3 (ipykernel)",
   "language": "python",
   "name": "python3"
  },
  "language_info": {
   "codemirror_mode": {
    "name": "ipython",
    "version": 3
   },
   "file_extension": ".py",
   "mimetype": "text/x-python",
   "name": "python",
   "nbconvert_exporter": "python",
   "pygments_lexer": "ipython3",
   "version": "3.9.10"
  }
 },
 "nbformat": 4,
 "nbformat_minor": 5
}
